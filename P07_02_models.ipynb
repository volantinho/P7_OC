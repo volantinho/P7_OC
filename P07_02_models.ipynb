{
 "cells": [
  {
   "cell_type": "code",
   "execution_count": 1,
   "metadata": {},
   "outputs": [
    {
     "name": "stdout",
     "output_type": "stream",
     "text": [
      "Populating the interactive namespace from numpy and matplotlib\n"
     ]
    }
   ],
   "source": [
    "%pylab inline\n",
    "import pandas as pd\n",
    "import seaborn as sns\n",
    "import numpy as np"
   ]
  },
  {
   "cell_type": "code",
   "execution_count": 2,
   "metadata": {},
   "outputs": [],
   "source": [
    "train = pd.read_csv('X_train_credit.csv',index_col = 0)"
   ]
  },
  {
   "cell_type": "code",
   "execution_count": 3,
   "metadata": {},
   "outputs": [
    {
     "data": {
      "text/html": [
       "<div>\n",
       "<style scoped>\n",
       "    .dataframe tbody tr th:only-of-type {\n",
       "        vertical-align: middle;\n",
       "    }\n",
       "\n",
       "    .dataframe tbody tr th {\n",
       "        vertical-align: top;\n",
       "    }\n",
       "\n",
       "    .dataframe thead th {\n",
       "        text-align: right;\n",
       "    }\n",
       "</style>\n",
       "<table border=\"1\" class=\"dataframe\">\n",
       "  <thead>\n",
       "    <tr style=\"text-align: right;\">\n",
       "      <th></th>\n",
       "      <th>TARGET</th>\n",
       "      <th>CNT_CHILDREN</th>\n",
       "      <th>AMT_INCOME_TOTAL</th>\n",
       "      <th>AMT_CREDIT</th>\n",
       "      <th>AMT_ANNUITY</th>\n",
       "      <th>AMT_GOODS_PRICE</th>\n",
       "      <th>DAYS_EMPLOYED</th>\n",
       "      <th>DAYS_REGISTRATION</th>\n",
       "      <th>DAYS_ID_PUBLISH</th>\n",
       "      <th>EXT_SOURCE_2</th>\n",
       "      <th>EXT_SOURCE_3</th>\n",
       "      <th>AGE</th>\n",
       "      <th>CREDIT_INCOME_PERCENT</th>\n",
       "      <th>ANNUITY_INCOME_PERCENT</th>\n",
       "      <th>CREDIT_ANNUITY_PERCENT</th>\n",
       "      <th>CREDIT_GOOD_PERCENT</th>\n",
       "    </tr>\n",
       "  </thead>\n",
       "  <tbody>\n",
       "    <tr>\n",
       "      <th>2</th>\n",
       "      <td>0</td>\n",
       "      <td>0</td>\n",
       "      <td>67500.0</td>\n",
       "      <td>135000.0</td>\n",
       "      <td>6750.0</td>\n",
       "      <td>135000.0</td>\n",
       "      <td>225</td>\n",
       "      <td>4260.0</td>\n",
       "      <td>2531</td>\n",
       "      <td>0.555912</td>\n",
       "      <td>0.729567</td>\n",
       "      <td>(50.0, 55.0]</td>\n",
       "      <td>2.000000</td>\n",
       "      <td>0.100000</td>\n",
       "      <td>0.050000</td>\n",
       "      <td>1.000000</td>\n",
       "    </tr>\n",
       "    <tr>\n",
       "      <th>5</th>\n",
       "      <td>0</td>\n",
       "      <td>0</td>\n",
       "      <td>99000.0</td>\n",
       "      <td>490495.5</td>\n",
       "      <td>27517.5</td>\n",
       "      <td>454500.0</td>\n",
       "      <td>1588</td>\n",
       "      <td>4970.0</td>\n",
       "      <td>477</td>\n",
       "      <td>0.354225</td>\n",
       "      <td>0.621226</td>\n",
       "      <td>(45.0, 50.0]</td>\n",
       "      <td>4.954500</td>\n",
       "      <td>0.277955</td>\n",
       "      <td>0.056101</td>\n",
       "      <td>1.079198</td>\n",
       "    </tr>\n",
       "    <tr>\n",
       "      <th>6</th>\n",
       "      <td>0</td>\n",
       "      <td>1</td>\n",
       "      <td>171000.0</td>\n",
       "      <td>1560726.0</td>\n",
       "      <td>41301.0</td>\n",
       "      <td>1395000.0</td>\n",
       "      <td>3130</td>\n",
       "      <td>1213.0</td>\n",
       "      <td>619</td>\n",
       "      <td>0.724000</td>\n",
       "      <td>0.492060</td>\n",
       "      <td>(35.0, 40.0]</td>\n",
       "      <td>9.127053</td>\n",
       "      <td>0.241526</td>\n",
       "      <td>0.026463</td>\n",
       "      <td>1.118800</td>\n",
       "    </tr>\n",
       "    <tr>\n",
       "      <th>7</th>\n",
       "      <td>0</td>\n",
       "      <td>0</td>\n",
       "      <td>360000.0</td>\n",
       "      <td>1530000.0</td>\n",
       "      <td>42075.0</td>\n",
       "      <td>1530000.0</td>\n",
       "      <td>449</td>\n",
       "      <td>4597.0</td>\n",
       "      <td>2379</td>\n",
       "      <td>0.714279</td>\n",
       "      <td>0.540654</td>\n",
       "      <td>(50.0, 55.0]</td>\n",
       "      <td>4.250000</td>\n",
       "      <td>0.116875</td>\n",
       "      <td>0.027500</td>\n",
       "      <td>1.000000</td>\n",
       "    </tr>\n",
       "    <tr>\n",
       "      <th>10</th>\n",
       "      <td>0</td>\n",
       "      <td>1</td>\n",
       "      <td>112500.0</td>\n",
       "      <td>652500.0</td>\n",
       "      <td>21177.0</td>\n",
       "      <td>652500.0</td>\n",
       "      <td>679</td>\n",
       "      <td>4427.0</td>\n",
       "      <td>738</td>\n",
       "      <td>0.651862</td>\n",
       "      <td>0.363945</td>\n",
       "      <td>(25.0, 30.0]</td>\n",
       "      <td>5.800000</td>\n",
       "      <td>0.188240</td>\n",
       "      <td>0.032455</td>\n",
       "      <td>1.000000</td>\n",
       "    </tr>\n",
       "  </tbody>\n",
       "</table>\n",
       "</div>"
      ],
      "text/plain": [
       "    TARGET  CNT_CHILDREN  AMT_INCOME_TOTAL  AMT_CREDIT  AMT_ANNUITY  \\\n",
       "2        0             0           67500.0    135000.0       6750.0   \n",
       "5        0             0           99000.0    490495.5      27517.5   \n",
       "6        0             1          171000.0   1560726.0      41301.0   \n",
       "7        0             0          360000.0   1530000.0      42075.0   \n",
       "10       0             1          112500.0    652500.0      21177.0   \n",
       "\n",
       "    AMT_GOODS_PRICE  DAYS_EMPLOYED  DAYS_REGISTRATION  DAYS_ID_PUBLISH  \\\n",
       "2          135000.0            225             4260.0             2531   \n",
       "5          454500.0           1588             4970.0              477   \n",
       "6         1395000.0           3130             1213.0              619   \n",
       "7         1530000.0            449             4597.0             2379   \n",
       "10         652500.0            679             4427.0              738   \n",
       "\n",
       "    EXT_SOURCE_2  EXT_SOURCE_3           AGE  CREDIT_INCOME_PERCENT  \\\n",
       "2       0.555912      0.729567  (50.0, 55.0]               2.000000   \n",
       "5       0.354225      0.621226  (45.0, 50.0]               4.954500   \n",
       "6       0.724000      0.492060  (35.0, 40.0]               9.127053   \n",
       "7       0.714279      0.540654  (50.0, 55.0]               4.250000   \n",
       "10      0.651862      0.363945  (25.0, 30.0]               5.800000   \n",
       "\n",
       "    ANNUITY_INCOME_PERCENT  CREDIT_ANNUITY_PERCENT  CREDIT_GOOD_PERCENT  \n",
       "2                 0.100000                0.050000             1.000000  \n",
       "5                 0.277955                0.056101             1.079198  \n",
       "6                 0.241526                0.026463             1.118800  \n",
       "7                 0.116875                0.027500             1.000000  \n",
       "10                0.188240                0.032455             1.000000  "
      ]
     },
     "execution_count": 3,
     "metadata": {},
     "output_type": "execute_result"
    }
   ],
   "source": [
    "train.head()"
   ]
  },
  {
   "cell_type": "code",
   "execution_count": 4,
   "metadata": {},
   "outputs": [],
   "source": [
    "from sklearn.model_selection import train_test_split"
   ]
  },
  {
   "cell_type": "code",
   "execution_count": 5,
   "metadata": {},
   "outputs": [],
   "source": [
    "# Getting features dropping target\n",
    "X = train.drop(['TARGET'], axis = 1)"
   ]
  },
  {
   "cell_type": "code",
   "execution_count": 6,
   "metadata": {},
   "outputs": [],
   "source": [
    "# Keeping target\n",
    "y = train['TARGET']"
   ]
  },
  {
   "cell_type": "code",
   "execution_count": 7,
   "metadata": {},
   "outputs": [],
   "source": [
    "# Splitting\n",
    "X_train, X_test, y_train, y_test = train_test_split( X, y, test_size = 0.1)"
   ]
  },
  {
   "cell_type": "markdown",
   "metadata": {},
   "source": [
    "# Preprocessing "
   ]
  },
  {
   "cell_type": "markdown",
   "metadata": {},
   "source": [
    "## 1 ) MinMaxScaler"
   ]
  },
  {
   "cell_type": "code",
   "execution_count": 8,
   "metadata": {},
   "outputs": [],
   "source": [
    "from sklearn.preprocessing import MinMaxScaler\n",
    "\n",
    "# Giving 0 for min and 1 for max.. for the rest the proportion\n",
    "scaler = MinMaxScaler()"
   ]
  },
  {
   "cell_type": "code",
   "execution_count": 9,
   "metadata": {},
   "outputs": [
    {
     "name": "stderr",
     "output_type": "stream",
     "text": [
      "C:\\Users\\vanes\\anaconda3\\lib\\site-packages\\pandas\\core\\indexing.py:966: SettingWithCopyWarning: \n",
      "A value is trying to be set on a copy of a slice from a DataFrame.\n",
      "Try using .loc[row_indexer,col_indexer] = value instead\n",
      "\n",
      "See the caveats in the documentation: https://pandas.pydata.org/pandas-docs/stable/user_guide/indexing.html#returning-a-view-versus-a-copy\n",
      "  self.obj[item] = s\n",
      "C:\\Users\\vanes\\anaconda3\\lib\\site-packages\\pandas\\core\\indexing.py:966: SettingWithCopyWarning: \n",
      "A value is trying to be set on a copy of a slice from a DataFrame.\n",
      "Try using .loc[row_indexer,col_indexer] = value instead\n",
      "\n",
      "See the caveats in the documentation: https://pandas.pydata.org/pandas-docs/stable/user_guide/indexing.html#returning-a-view-versus-a-copy\n",
      "  self.obj[item] = s\n",
      "C:\\Users\\vanes\\anaconda3\\lib\\site-packages\\pandas\\core\\indexing.py:966: SettingWithCopyWarning: \n",
      "A value is trying to be set on a copy of a slice from a DataFrame.\n",
      "Try using .loc[row_indexer,col_indexer] = value instead\n",
      "\n",
      "See the caveats in the documentation: https://pandas.pydata.org/pandas-docs/stable/user_guide/indexing.html#returning-a-view-versus-a-copy\n",
      "  self.obj[item] = s\n",
      "C:\\Users\\vanes\\anaconda3\\lib\\site-packages\\pandas\\core\\indexing.py:966: SettingWithCopyWarning: \n",
      "A value is trying to be set on a copy of a slice from a DataFrame.\n",
      "Try using .loc[row_indexer,col_indexer] = value instead\n",
      "\n",
      "See the caveats in the documentation: https://pandas.pydata.org/pandas-docs/stable/user_guide/indexing.html#returning-a-view-versus-a-copy\n",
      "  self.obj[item] = s\n",
      "C:\\Users\\vanes\\anaconda3\\lib\\site-packages\\pandas\\core\\indexing.py:966: SettingWithCopyWarning: \n",
      "A value is trying to be set on a copy of a slice from a DataFrame.\n",
      "Try using .loc[row_indexer,col_indexer] = value instead\n",
      "\n",
      "See the caveats in the documentation: https://pandas.pydata.org/pandas-docs/stable/user_guide/indexing.html#returning-a-view-versus-a-copy\n",
      "  self.obj[item] = s\n",
      "C:\\Users\\vanes\\anaconda3\\lib\\site-packages\\pandas\\core\\indexing.py:966: SettingWithCopyWarning: \n",
      "A value is trying to be set on a copy of a slice from a DataFrame.\n",
      "Try using .loc[row_indexer,col_indexer] = value instead\n",
      "\n",
      "See the caveats in the documentation: https://pandas.pydata.org/pandas-docs/stable/user_guide/indexing.html#returning-a-view-versus-a-copy\n",
      "  self.obj[item] = s\n",
      "C:\\Users\\vanes\\anaconda3\\lib\\site-packages\\pandas\\core\\indexing.py:966: SettingWithCopyWarning: \n",
      "A value is trying to be set on a copy of a slice from a DataFrame.\n",
      "Try using .loc[row_indexer,col_indexer] = value instead\n",
      "\n",
      "See the caveats in the documentation: https://pandas.pydata.org/pandas-docs/stable/user_guide/indexing.html#returning-a-view-versus-a-copy\n",
      "  self.obj[item] = s\n",
      "C:\\Users\\vanes\\anaconda3\\lib\\site-packages\\pandas\\core\\indexing.py:966: SettingWithCopyWarning: \n",
      "A value is trying to be set on a copy of a slice from a DataFrame.\n",
      "Try using .loc[row_indexer,col_indexer] = value instead\n",
      "\n",
      "See the caveats in the documentation: https://pandas.pydata.org/pandas-docs/stable/user_guide/indexing.html#returning-a-view-versus-a-copy\n",
      "  self.obj[item] = s\n",
      "C:\\Users\\vanes\\anaconda3\\lib\\site-packages\\pandas\\core\\indexing.py:966: SettingWithCopyWarning: \n",
      "A value is trying to be set on a copy of a slice from a DataFrame.\n",
      "Try using .loc[row_indexer,col_indexer] = value instead\n",
      "\n",
      "See the caveats in the documentation: https://pandas.pydata.org/pandas-docs/stable/user_guide/indexing.html#returning-a-view-versus-a-copy\n",
      "  self.obj[item] = s\n",
      "C:\\Users\\vanes\\anaconda3\\lib\\site-packages\\pandas\\core\\indexing.py:966: SettingWithCopyWarning: \n",
      "A value is trying to be set on a copy of a slice from a DataFrame.\n",
      "Try using .loc[row_indexer,col_indexer] = value instead\n",
      "\n",
      "See the caveats in the documentation: https://pandas.pydata.org/pandas-docs/stable/user_guide/indexing.html#returning-a-view-versus-a-copy\n",
      "  self.obj[item] = s\n",
      "C:\\Users\\vanes\\anaconda3\\lib\\site-packages\\pandas\\core\\indexing.py:966: SettingWithCopyWarning: \n",
      "A value is trying to be set on a copy of a slice from a DataFrame.\n",
      "Try using .loc[row_indexer,col_indexer] = value instead\n",
      "\n",
      "See the caveats in the documentation: https://pandas.pydata.org/pandas-docs/stable/user_guide/indexing.html#returning-a-view-versus-a-copy\n",
      "  self.obj[item] = s\n",
      "C:\\Users\\vanes\\anaconda3\\lib\\site-packages\\pandas\\core\\indexing.py:966: SettingWithCopyWarning: \n",
      "A value is trying to be set on a copy of a slice from a DataFrame.\n",
      "Try using .loc[row_indexer,col_indexer] = value instead\n",
      "\n",
      "See the caveats in the documentation: https://pandas.pydata.org/pandas-docs/stable/user_guide/indexing.html#returning-a-view-versus-a-copy\n",
      "  self.obj[item] = s\n",
      "C:\\Users\\vanes\\anaconda3\\lib\\site-packages\\pandas\\core\\indexing.py:966: SettingWithCopyWarning: \n",
      "A value is trying to be set on a copy of a slice from a DataFrame.\n",
      "Try using .loc[row_indexer,col_indexer] = value instead\n",
      "\n",
      "See the caveats in the documentation: https://pandas.pydata.org/pandas-docs/stable/user_guide/indexing.html#returning-a-view-versus-a-copy\n",
      "  self.obj[item] = s\n",
      "C:\\Users\\vanes\\anaconda3\\lib\\site-packages\\pandas\\core\\indexing.py:966: SettingWithCopyWarning: \n",
      "A value is trying to be set on a copy of a slice from a DataFrame.\n",
      "Try using .loc[row_indexer,col_indexer] = value instead\n",
      "\n",
      "See the caveats in the documentation: https://pandas.pydata.org/pandas-docs/stable/user_guide/indexing.html#returning-a-view-versus-a-copy\n",
      "  self.obj[item] = s\n"
     ]
    }
   ],
   "source": [
    "''' Scaling X_train excepted  'age' '''\n",
    "\n",
    "for col in X_train.drop('AGE', axis = 1).columns :\n",
    "    X_train.loc[:, col] = scaler.fit_transform(X_train[col].values.reshape(-1,1))"
   ]
  },
  {
   "cell_type": "code",
   "execution_count": 10,
   "metadata": {},
   "outputs": [
    {
     "name": "stderr",
     "output_type": "stream",
     "text": [
      "C:\\Users\\vanes\\anaconda3\\lib\\site-packages\\pandas\\core\\indexing.py:966: SettingWithCopyWarning: \n",
      "A value is trying to be set on a copy of a slice from a DataFrame.\n",
      "Try using .loc[row_indexer,col_indexer] = value instead\n",
      "\n",
      "See the caveats in the documentation: https://pandas.pydata.org/pandas-docs/stable/user_guide/indexing.html#returning-a-view-versus-a-copy\n",
      "  self.obj[item] = s\n",
      "C:\\Users\\vanes\\anaconda3\\lib\\site-packages\\pandas\\core\\indexing.py:966: SettingWithCopyWarning: \n",
      "A value is trying to be set on a copy of a slice from a DataFrame.\n",
      "Try using .loc[row_indexer,col_indexer] = value instead\n",
      "\n",
      "See the caveats in the documentation: https://pandas.pydata.org/pandas-docs/stable/user_guide/indexing.html#returning-a-view-versus-a-copy\n",
      "  self.obj[item] = s\n",
      "C:\\Users\\vanes\\anaconda3\\lib\\site-packages\\pandas\\core\\indexing.py:966: SettingWithCopyWarning: \n",
      "A value is trying to be set on a copy of a slice from a DataFrame.\n",
      "Try using .loc[row_indexer,col_indexer] = value instead\n",
      "\n",
      "See the caveats in the documentation: https://pandas.pydata.org/pandas-docs/stable/user_guide/indexing.html#returning-a-view-versus-a-copy\n",
      "  self.obj[item] = s\n",
      "C:\\Users\\vanes\\anaconda3\\lib\\site-packages\\pandas\\core\\indexing.py:966: SettingWithCopyWarning: \n",
      "A value is trying to be set on a copy of a slice from a DataFrame.\n",
      "Try using .loc[row_indexer,col_indexer] = value instead\n",
      "\n",
      "See the caveats in the documentation: https://pandas.pydata.org/pandas-docs/stable/user_guide/indexing.html#returning-a-view-versus-a-copy\n",
      "  self.obj[item] = s\n",
      "C:\\Users\\vanes\\anaconda3\\lib\\site-packages\\pandas\\core\\indexing.py:966: SettingWithCopyWarning: \n",
      "A value is trying to be set on a copy of a slice from a DataFrame.\n",
      "Try using .loc[row_indexer,col_indexer] = value instead\n",
      "\n",
      "See the caveats in the documentation: https://pandas.pydata.org/pandas-docs/stable/user_guide/indexing.html#returning-a-view-versus-a-copy\n",
      "  self.obj[item] = s\n",
      "C:\\Users\\vanes\\anaconda3\\lib\\site-packages\\pandas\\core\\indexing.py:966: SettingWithCopyWarning: \n",
      "A value is trying to be set on a copy of a slice from a DataFrame.\n",
      "Try using .loc[row_indexer,col_indexer] = value instead\n",
      "\n",
      "See the caveats in the documentation: https://pandas.pydata.org/pandas-docs/stable/user_guide/indexing.html#returning-a-view-versus-a-copy\n",
      "  self.obj[item] = s\n",
      "C:\\Users\\vanes\\anaconda3\\lib\\site-packages\\pandas\\core\\indexing.py:966: SettingWithCopyWarning: \n",
      "A value is trying to be set on a copy of a slice from a DataFrame.\n",
      "Try using .loc[row_indexer,col_indexer] = value instead\n",
      "\n",
      "See the caveats in the documentation: https://pandas.pydata.org/pandas-docs/stable/user_guide/indexing.html#returning-a-view-versus-a-copy\n",
      "  self.obj[item] = s\n",
      "C:\\Users\\vanes\\anaconda3\\lib\\site-packages\\pandas\\core\\indexing.py:966: SettingWithCopyWarning: \n",
      "A value is trying to be set on a copy of a slice from a DataFrame.\n",
      "Try using .loc[row_indexer,col_indexer] = value instead\n",
      "\n",
      "See the caveats in the documentation: https://pandas.pydata.org/pandas-docs/stable/user_guide/indexing.html#returning-a-view-versus-a-copy\n",
      "  self.obj[item] = s\n",
      "C:\\Users\\vanes\\anaconda3\\lib\\site-packages\\pandas\\core\\indexing.py:966: SettingWithCopyWarning: \n",
      "A value is trying to be set on a copy of a slice from a DataFrame.\n",
      "Try using .loc[row_indexer,col_indexer] = value instead\n",
      "\n",
      "See the caveats in the documentation: https://pandas.pydata.org/pandas-docs/stable/user_guide/indexing.html#returning-a-view-versus-a-copy\n",
      "  self.obj[item] = s\n",
      "C:\\Users\\vanes\\anaconda3\\lib\\site-packages\\pandas\\core\\indexing.py:966: SettingWithCopyWarning: \n",
      "A value is trying to be set on a copy of a slice from a DataFrame.\n",
      "Try using .loc[row_indexer,col_indexer] = value instead\n",
      "\n",
      "See the caveats in the documentation: https://pandas.pydata.org/pandas-docs/stable/user_guide/indexing.html#returning-a-view-versus-a-copy\n",
      "  self.obj[item] = s\n",
      "C:\\Users\\vanes\\anaconda3\\lib\\site-packages\\pandas\\core\\indexing.py:966: SettingWithCopyWarning: \n",
      "A value is trying to be set on a copy of a slice from a DataFrame.\n",
      "Try using .loc[row_indexer,col_indexer] = value instead\n",
      "\n",
      "See the caveats in the documentation: https://pandas.pydata.org/pandas-docs/stable/user_guide/indexing.html#returning-a-view-versus-a-copy\n",
      "  self.obj[item] = s\n",
      "C:\\Users\\vanes\\anaconda3\\lib\\site-packages\\pandas\\core\\indexing.py:966: SettingWithCopyWarning: \n",
      "A value is trying to be set on a copy of a slice from a DataFrame.\n",
      "Try using .loc[row_indexer,col_indexer] = value instead\n",
      "\n",
      "See the caveats in the documentation: https://pandas.pydata.org/pandas-docs/stable/user_guide/indexing.html#returning-a-view-versus-a-copy\n",
      "  self.obj[item] = s\n",
      "C:\\Users\\vanes\\anaconda3\\lib\\site-packages\\pandas\\core\\indexing.py:966: SettingWithCopyWarning: \n",
      "A value is trying to be set on a copy of a slice from a DataFrame.\n",
      "Try using .loc[row_indexer,col_indexer] = value instead\n",
      "\n",
      "See the caveats in the documentation: https://pandas.pydata.org/pandas-docs/stable/user_guide/indexing.html#returning-a-view-versus-a-copy\n",
      "  self.obj[item] = s\n",
      "C:\\Users\\vanes\\anaconda3\\lib\\site-packages\\pandas\\core\\indexing.py:966: SettingWithCopyWarning: \n",
      "A value is trying to be set on a copy of a slice from a DataFrame.\n",
      "Try using .loc[row_indexer,col_indexer] = value instead\n",
      "\n",
      "See the caveats in the documentation: https://pandas.pydata.org/pandas-docs/stable/user_guide/indexing.html#returning-a-view-versus-a-copy\n",
      "  self.obj[item] = s\n"
     ]
    }
   ],
   "source": [
    "''' Scaling X_test excepted  and 'age' '''\n",
    "\n",
    "for col in X_test.drop('AGE', axis = 1).columns :\n",
    "    X_test.loc[:, col] = scaler.fit_transform(X_test[col].values.reshape(-1,1))"
   ]
  },
  {
   "cell_type": "markdown",
   "metadata": {},
   "source": [
    "## 2 ) Label Encoder"
   ]
  },
  {
   "cell_type": "code",
   "execution_count": 11,
   "metadata": {},
   "outputs": [],
   "source": [
    "# Encoding 'AGE'\n",
    "from sklearn.preprocessing import LabelEncoder\n",
    "\n",
    "# Creating OneHotEncoder\n",
    "encoder = LabelEncoder()"
   ]
  },
  {
   "cell_type": "code",
   "execution_count": 12,
   "metadata": {},
   "outputs": [
    {
     "name": "stderr",
     "output_type": "stream",
     "text": [
      "C:\\Users\\vanes\\anaconda3\\lib\\site-packages\\sklearn\\utils\\validation.py:73: DataConversionWarning: A column-vector y was passed when a 1d array was expected. Please change the shape of y to (n_samples, ), for example using ravel().\n",
      "  return f(**kwargs)\n",
      "<ipython-input-12-1e289b65ed04>:2: SettingWithCopyWarning: \n",
      "A value is trying to be set on a copy of a slice from a DataFrame.\n",
      "Try using .loc[row_indexer,col_indexer] = value instead\n",
      "\n",
      "See the caveats in the documentation: https://pandas.pydata.org/pandas-docs/stable/user_guide/indexing.html#returning-a-view-versus-a-copy\n",
      "  X_train['AGE'] = encoder.fit_transform(X_train['AGE'].values.reshape(-1, 1))\n"
     ]
    }
   ],
   "source": [
    "# Encoding 'AGE' for X_train\n",
    "X_train['AGE'] = encoder.fit_transform(X_train['AGE'].values.reshape(-1, 1))"
   ]
  },
  {
   "cell_type": "code",
   "execution_count": 13,
   "metadata": {},
   "outputs": [
    {
     "name": "stderr",
     "output_type": "stream",
     "text": [
      "<ipython-input-13-b8dd57bfac34>:2: SettingWithCopyWarning: \n",
      "A value is trying to be set on a copy of a slice from a DataFrame.\n",
      "Try using .loc[row_indexer,col_indexer] = value instead\n",
      "\n",
      "See the caveats in the documentation: https://pandas.pydata.org/pandas-docs/stable/user_guide/indexing.html#returning-a-view-versus-a-copy\n",
      "  X_test['AGE'] = encoder.fit_transform(X_test['AGE'].values.reshape(-1, 1))\n"
     ]
    }
   ],
   "source": [
    "# Encoding 'AGE' for X_test\n",
    "X_test['AGE'] = encoder.fit_transform(X_test['AGE'].values.reshape(-1, 1))"
   ]
  },
  {
   "cell_type": "code",
   "execution_count": 14,
   "metadata": {},
   "outputs": [
    {
     "data": {
      "text/plain": [
       "(181547, 15)"
      ]
     },
     "execution_count": 14,
     "metadata": {},
     "output_type": "execute_result"
    }
   ],
   "source": [
    "X_train.shape"
   ]
  },
  {
   "cell_type": "code",
   "execution_count": 15,
   "metadata": {},
   "outputs": [
    {
     "data": {
      "text/plain": [
       "(181547,)"
      ]
     },
     "execution_count": 15,
     "metadata": {},
     "output_type": "execute_result"
    }
   ],
   "source": [
    "y_train.shape"
   ]
  },
  {
   "cell_type": "code",
   "execution_count": 16,
   "metadata": {},
   "outputs": [
    {
     "data": {
      "text/html": [
       "<div>\n",
       "<style scoped>\n",
       "    .dataframe tbody tr th:only-of-type {\n",
       "        vertical-align: middle;\n",
       "    }\n",
       "\n",
       "    .dataframe tbody tr th {\n",
       "        vertical-align: top;\n",
       "    }\n",
       "\n",
       "    .dataframe thead th {\n",
       "        text-align: right;\n",
       "    }\n",
       "</style>\n",
       "<table border=\"1\" class=\"dataframe\">\n",
       "  <thead>\n",
       "    <tr style=\"text-align: right;\">\n",
       "      <th></th>\n",
       "      <th>CNT_CHILDREN</th>\n",
       "      <th>AMT_INCOME_TOTAL</th>\n",
       "      <th>AMT_CREDIT</th>\n",
       "      <th>AMT_ANNUITY</th>\n",
       "      <th>AMT_GOODS_PRICE</th>\n",
       "      <th>DAYS_EMPLOYED</th>\n",
       "      <th>DAYS_REGISTRATION</th>\n",
       "      <th>DAYS_ID_PUBLISH</th>\n",
       "      <th>EXT_SOURCE_2</th>\n",
       "      <th>EXT_SOURCE_3</th>\n",
       "      <th>AGE</th>\n",
       "      <th>CREDIT_INCOME_PERCENT</th>\n",
       "      <th>ANNUITY_INCOME_PERCENT</th>\n",
       "      <th>CREDIT_ANNUITY_PERCENT</th>\n",
       "      <th>CREDIT_GOOD_PERCENT</th>\n",
       "    </tr>\n",
       "  </thead>\n",
       "  <tbody>\n",
       "    <tr>\n",
       "      <th>234102</th>\n",
       "      <td>0.0</td>\n",
       "      <td>0.000735</td>\n",
       "      <td>0.225613</td>\n",
       "      <td>0.124027</td>\n",
       "      <td>0.159371</td>\n",
       "      <td>0.213209</td>\n",
       "      <td>0.368719</td>\n",
       "      <td>0.572044</td>\n",
       "      <td>0.735626</td>\n",
       "      <td>0.337006</td>\n",
       "      <td>3</td>\n",
       "      <td>0.252847</td>\n",
       "      <td>0.206468</td>\n",
       "      <td>0.108589</td>\n",
       "      <td>0.212991</td>\n",
       "    </tr>\n",
       "    <tr>\n",
       "      <th>127812</th>\n",
       "      <td>0.0</td>\n",
       "      <td>0.002081</td>\n",
       "      <td>0.284715</td>\n",
       "      <td>0.128122</td>\n",
       "      <td>0.248036</td>\n",
       "      <td>0.073638</td>\n",
       "      <td>0.016137</td>\n",
       "      <td>0.592330</td>\n",
       "      <td>0.534073</td>\n",
       "      <td>0.820738</td>\n",
       "      <td>4</td>\n",
       "      <td>0.131573</td>\n",
       "      <td>0.088614</td>\n",
       "      <td>0.046218</td>\n",
       "      <td>0.170120</td>\n",
       "    </tr>\n",
       "    <tr>\n",
       "      <th>20859</th>\n",
       "      <td>0.0</td>\n",
       "      <td>0.001697</td>\n",
       "      <td>0.311236</td>\n",
       "      <td>0.139739</td>\n",
       "      <td>0.312009</td>\n",
       "      <td>0.165978</td>\n",
       "      <td>0.163948</td>\n",
       "      <td>0.595109</td>\n",
       "      <td>0.725974</td>\n",
       "      <td>0.572349</td>\n",
       "      <td>3</td>\n",
       "      <td>0.172081</td>\n",
       "      <td>0.115476</td>\n",
       "      <td>0.045109</td>\n",
       "      <td>0.145299</td>\n",
       "    </tr>\n",
       "  </tbody>\n",
       "</table>\n",
       "</div>"
      ],
      "text/plain": [
       "        CNT_CHILDREN  AMT_INCOME_TOTAL  AMT_CREDIT  AMT_ANNUITY  \\\n",
       "234102           0.0          0.000735    0.225613     0.124027   \n",
       "127812           0.0          0.002081    0.284715     0.128122   \n",
       "20859            0.0          0.001697    0.311236     0.139739   \n",
       "\n",
       "        AMT_GOODS_PRICE  DAYS_EMPLOYED  DAYS_REGISTRATION  DAYS_ID_PUBLISH  \\\n",
       "234102         0.159371       0.213209           0.368719         0.572044   \n",
       "127812         0.248036       0.073638           0.016137         0.592330   \n",
       "20859          0.312009       0.165978           0.163948         0.595109   \n",
       "\n",
       "        EXT_SOURCE_2  EXT_SOURCE_3  AGE  CREDIT_INCOME_PERCENT  \\\n",
       "234102      0.735626      0.337006    3               0.252847   \n",
       "127812      0.534073      0.820738    4               0.131573   \n",
       "20859       0.725974      0.572349    3               0.172081   \n",
       "\n",
       "        ANNUITY_INCOME_PERCENT  CREDIT_ANNUITY_PERCENT  CREDIT_GOOD_PERCENT  \n",
       "234102                0.206468                0.108589             0.212991  \n",
       "127812                0.088614                0.046218             0.170120  \n",
       "20859                 0.115476                0.045109             0.145299  "
      ]
     },
     "execution_count": 16,
     "metadata": {},
     "output_type": "execute_result"
    }
   ],
   "source": [
    "X_train.head(3)"
   ]
  },
  {
   "cell_type": "code",
   "execution_count": 17,
   "metadata": {},
   "outputs": [
    {
     "data": {
      "text/html": [
       "<div>\n",
       "<style scoped>\n",
       "    .dataframe tbody tr th:only-of-type {\n",
       "        vertical-align: middle;\n",
       "    }\n",
       "\n",
       "    .dataframe tbody tr th {\n",
       "        vertical-align: top;\n",
       "    }\n",
       "\n",
       "    .dataframe thead th {\n",
       "        text-align: right;\n",
       "    }\n",
       "</style>\n",
       "<table border=\"1\" class=\"dataframe\">\n",
       "  <thead>\n",
       "    <tr style=\"text-align: right;\">\n",
       "      <th></th>\n",
       "      <th>CNT_CHILDREN</th>\n",
       "      <th>AMT_INCOME_TOTAL</th>\n",
       "      <th>AMT_CREDIT</th>\n",
       "      <th>AMT_ANNUITY</th>\n",
       "      <th>AMT_GOODS_PRICE</th>\n",
       "      <th>DAYS_EMPLOYED</th>\n",
       "      <th>DAYS_REGISTRATION</th>\n",
       "      <th>DAYS_ID_PUBLISH</th>\n",
       "      <th>EXT_SOURCE_2</th>\n",
       "      <th>EXT_SOURCE_3</th>\n",
       "      <th>AGE</th>\n",
       "      <th>CREDIT_INCOME_PERCENT</th>\n",
       "      <th>ANNUITY_INCOME_PERCENT</th>\n",
       "      <th>CREDIT_ANNUITY_PERCENT</th>\n",
       "      <th>CREDIT_GOOD_PERCENT</th>\n",
       "    </tr>\n",
       "  </thead>\n",
       "  <tbody>\n",
       "    <tr>\n",
       "      <th>282650</th>\n",
       "      <td>0.0</td>\n",
       "      <td>0.017291</td>\n",
       "      <td>0.105801</td>\n",
       "      <td>0.055447</td>\n",
       "      <td>0.085393</td>\n",
       "      <td>0.015474</td>\n",
       "      <td>0.106274</td>\n",
       "      <td>0.392460</td>\n",
       "      <td>0.424954</td>\n",
       "      <td>0.384626</td>\n",
       "      <td>6</td>\n",
       "      <td>0.227288</td>\n",
       "      <td>0.203745</td>\n",
       "      <td>0.080611</td>\n",
       "      <td>0.343559</td>\n",
       "    </tr>\n",
       "    <tr>\n",
       "      <th>72192</th>\n",
       "      <td>0.0</td>\n",
       "      <td>0.041787</td>\n",
       "      <td>0.213483</td>\n",
       "      <td>0.103611</td>\n",
       "      <td>0.213483</td>\n",
       "      <td>0.075947</td>\n",
       "      <td>0.436236</td>\n",
       "      <td>0.177864</td>\n",
       "      <td>0.787639</td>\n",
       "      <td>0.737173</td>\n",
       "      <td>2</td>\n",
       "      <td>0.224370</td>\n",
       "      <td>0.178373</td>\n",
       "      <td>0.045145</td>\n",
       "      <td>0.266055</td>\n",
       "    </tr>\n",
       "    <tr>\n",
       "      <th>298367</th>\n",
       "      <td>0.0</td>\n",
       "      <td>0.034582</td>\n",
       "      <td>0.177326</td>\n",
       "      <td>0.148214</td>\n",
       "      <td>0.157303</td>\n",
       "      <td>0.029029</td>\n",
       "      <td>0.126370</td>\n",
       "      <td>0.217174</td>\n",
       "      <td>0.751775</td>\n",
       "      <td>0.420139</td>\n",
       "      <td>5</td>\n",
       "      <td>0.219532</td>\n",
       "      <td>0.294082</td>\n",
       "      <td>0.236119</td>\n",
       "      <td>0.309651</td>\n",
       "    </tr>\n",
       "    <tr>\n",
       "      <th>187045</th>\n",
       "      <td>0.0</td>\n",
       "      <td>0.048991</td>\n",
       "      <td>0.289888</td>\n",
       "      <td>0.128347</td>\n",
       "      <td>0.289888</td>\n",
       "      <td>0.103491</td>\n",
       "      <td>0.011274</td>\n",
       "      <td>0.295634</td>\n",
       "      <td>0.203425</td>\n",
       "      <td>0.626490</td>\n",
       "      <td>1</td>\n",
       "      <td>0.264013</td>\n",
       "      <td>0.190019</td>\n",
       "      <td>0.017509</td>\n",
       "      <td>0.266055</td>\n",
       "    </tr>\n",
       "    <tr>\n",
       "      <th>232506</th>\n",
       "      <td>0.0</td>\n",
       "      <td>0.041787</td>\n",
       "      <td>0.052360</td>\n",
       "      <td>0.109073</td>\n",
       "      <td>0.044944</td>\n",
       "      <td>0.019745</td>\n",
       "      <td>0.255592</td>\n",
       "      <td>0.765265</td>\n",
       "      <td>0.082526</td>\n",
       "      <td>0.739018</td>\n",
       "      <td>3</td>\n",
       "      <td>0.059592</td>\n",
       "      <td>0.187234</td>\n",
       "      <td>0.837193</td>\n",
       "      <td>0.314495</td>\n",
       "    </tr>\n",
       "    <tr>\n",
       "      <th>34287</th>\n",
       "      <td>0.0</td>\n",
       "      <td>0.106628</td>\n",
       "      <td>0.063299</td>\n",
       "      <td>0.111190</td>\n",
       "      <td>0.056180</td>\n",
       "      <td>0.010894</td>\n",
       "      <td>0.222930</td>\n",
       "      <td>0.496214</td>\n",
       "      <td>0.750388</td>\n",
       "      <td>0.624477</td>\n",
       "      <td>1</td>\n",
       "      <td>0.027902</td>\n",
       "      <td>0.078151</td>\n",
       "      <td>0.694077</td>\n",
       "      <td>0.304807</td>\n",
       "    </tr>\n",
       "  </tbody>\n",
       "</table>\n",
       "</div>"
      ],
      "text/plain": [
       "        CNT_CHILDREN  AMT_INCOME_TOTAL  AMT_CREDIT  AMT_ANNUITY  \\\n",
       "282650           0.0          0.017291    0.105801     0.055447   \n",
       "72192            0.0          0.041787    0.213483     0.103611   \n",
       "298367           0.0          0.034582    0.177326     0.148214   \n",
       "187045           0.0          0.048991    0.289888     0.128347   \n",
       "232506           0.0          0.041787    0.052360     0.109073   \n",
       "34287            0.0          0.106628    0.063299     0.111190   \n",
       "\n",
       "        AMT_GOODS_PRICE  DAYS_EMPLOYED  DAYS_REGISTRATION  DAYS_ID_PUBLISH  \\\n",
       "282650         0.085393       0.015474           0.106274         0.392460   \n",
       "72192          0.213483       0.075947           0.436236         0.177864   \n",
       "298367         0.157303       0.029029           0.126370         0.217174   \n",
       "187045         0.289888       0.103491           0.011274         0.295634   \n",
       "232506         0.044944       0.019745           0.255592         0.765265   \n",
       "34287          0.056180       0.010894           0.222930         0.496214   \n",
       "\n",
       "        EXT_SOURCE_2  EXT_SOURCE_3  AGE  CREDIT_INCOME_PERCENT  \\\n",
       "282650      0.424954      0.384626    6               0.227288   \n",
       "72192       0.787639      0.737173    2               0.224370   \n",
       "298367      0.751775      0.420139    5               0.219532   \n",
       "187045      0.203425      0.626490    1               0.264013   \n",
       "232506      0.082526      0.739018    3               0.059592   \n",
       "34287       0.750388      0.624477    1               0.027902   \n",
       "\n",
       "        ANNUITY_INCOME_PERCENT  CREDIT_ANNUITY_PERCENT  CREDIT_GOOD_PERCENT  \n",
       "282650                0.203745                0.080611             0.343559  \n",
       "72192                 0.178373                0.045145             0.266055  \n",
       "298367                0.294082                0.236119             0.309651  \n",
       "187045                0.190019                0.017509             0.266055  \n",
       "232506                0.187234                0.837193             0.314495  \n",
       "34287                 0.078151                0.694077             0.304807  "
      ]
     },
     "execution_count": 17,
     "metadata": {},
     "output_type": "execute_result"
    }
   ],
   "source": [
    "X_test.head(6)"
   ]
  },
  {
   "cell_type": "code",
   "execution_count": 18,
   "metadata": {},
   "outputs": [
    {
     "data": {
      "text/plain": [
       "(181547, 15)"
      ]
     },
     "execution_count": 18,
     "metadata": {},
     "output_type": "execute_result"
    }
   ],
   "source": [
    "X_train.shape"
   ]
  },
  {
   "cell_type": "code",
   "execution_count": 19,
   "metadata": {},
   "outputs": [
    {
     "data": {
      "text/plain": [
       "(20172, 15)"
      ]
     },
     "execution_count": 19,
     "metadata": {},
     "output_type": "execute_result"
    }
   ],
   "source": [
    "X_test.shape"
   ]
  },
  {
   "cell_type": "markdown",
   "metadata": {},
   "source": [
    "# MODELS"
   ]
  },
  {
   "cell_type": "markdown",
   "metadata": {},
   "source": [
    "## 1)  GradientBoostingClassifier"
   ]
  },
  {
   "cell_type": "code",
   "execution_count": 20,
   "metadata": {},
   "outputs": [
    {
     "data": {
      "text/plain": [
       "0.7479106994153961"
      ]
     },
     "execution_count": 20,
     "metadata": {},
     "output_type": "execute_result"
    }
   ],
   "source": [
    "from sklearn.ensemble import GradientBoostingClassifier\n",
    "from sklearn.model_selection import cross_val_score\n",
    "from sklearn.metrics import roc_auc_score\n",
    "\n",
    "# Creating estimator\n",
    "model = GradientBoostingClassifier()\n",
    "\n",
    "# Fitting model\n",
    "model.fit(X_train, y_train)\n",
    "\n",
    "# cross_val_score\n",
    "scores = cross_val_score(model, X_train, y_train, cv=5, scoring='roc_auc')\n",
    "\n",
    "# Printing mean score\n",
    "np.mean(scores)"
   ]
  },
  {
   "cell_type": "markdown",
   "metadata": {},
   "source": [
    "### Tuning hyperparameters"
   ]
  },
  {
   "cell_type": "code",
   "execution_count": 21,
   "metadata": {},
   "outputs": [
    {
     "data": {
      "text/plain": [
       "GridSearchCV(cv=5,\n",
       "             estimator=GradientBoostingClassifier(max_depth=8,\n",
       "                                                  max_features='sqrt',\n",
       "                                                  min_samples_leaf=50,\n",
       "                                                  min_samples_split=500,\n",
       "                                                  random_state=10,\n",
       "                                                  subsample=0.8),\n",
       "             n_jobs=4, param_grid={'n_estimators': range(20, 100, 10)},\n",
       "             scoring='roc_auc')"
      ]
     },
     "execution_count": 21,
     "metadata": {},
     "output_type": "execute_result"
    }
   ],
   "source": [
    "from sklearn.model_selection import GridSearchCV\n",
    "\n",
    "\n",
    "# Optimal number of estimators\n",
    "param_test1={'n_estimators': range(20,100,10)}\n",
    "\n",
    "# GridSearchCV / roc_auc_score\n",
    "gsearch1 = GridSearchCV(estimator = GradientBoostingClassifier(learning_rate=0.1, min_samples_split=500,min_samples_leaf=50,max_depth=8,max_features='sqrt',subsample=0.8,random_state=10), \n",
    "                        param_grid = param_test1, scoring='roc_auc',n_jobs=4, cv=5)\n",
    "\n",
    "\n",
    "# Fitting\n",
    "gsearch1.fit(X_train, y_train)"
   ]
  },
  {
   "cell_type": "code",
   "execution_count": 22,
   "metadata": {},
   "outputs": [
    {
     "name": "stdout",
     "output_type": "stream",
     "text": [
      "Best estimator : GradientBoostingClassifier(max_depth=8, max_features='sqrt',\n",
      "                           min_samples_leaf=50, min_samples_split=500,\n",
      "                           n_estimators=90, random_state=10, subsample=0.8)\n",
      "Best score : 0.7472081346804705\n",
      "Best parameters : {'n_estimators': 90}\n"
     ]
    }
   ],
   "source": [
    "# Best estimator\n",
    "print('Best estimator : {}'.format(gsearch1.best_estimator_))\n",
    "# Best score\n",
    "print('Best score : {}'.format(gsearch1.best_score_))\n",
    "# Best parameters\n",
    "print('Best parameters : {}'.format(gsearch1.best_params_))"
   ]
  },
  {
   "cell_type": "markdown",
   "metadata": {},
   "source": [
    "Almost 75% give us good results... Trying to improve now.."
   ]
  },
  {
   "cell_type": "markdown",
   "metadata": {},
   "source": [
    "#########################################################################################################################"
   ]
  },
  {
   "cell_type": "markdown",
   "metadata": {},
   "source": [
    "Now we use grid search to find optimal min_samples_split hyperparameter"
   ]
  },
  {
   "cell_type": "code",
   "execution_count": 23,
   "metadata": {},
   "outputs": [],
   "source": [
    "# Giving a range for min_samples_split's hyperparameter\n",
    "param_test2 = {'min_samples_split':range(1000,2100,200)}\n",
    "\n",
    "# We keep hyperparameters found above\n",
    "gsearch2 = GridSearchCV(estimator = GradientBoostingClassifier(n_estimators=90,learning_rate=0.1,min_samples_leaf=50,max_features='sqrt',subsample=0.8,random_state=10), \n",
    "                        param_grid = param_test2, scoring='roc_auc',n_jobs=4, cv=5)"
   ]
  },
  {
   "cell_type": "code",
   "execution_count": 24,
   "metadata": {},
   "outputs": [
    {
     "name": "stdout",
     "output_type": "stream",
     "text": [
      "Best estimator : GradientBoostingClassifier(max_features='sqrt', min_samples_leaf=50,\n",
      "                           min_samples_split=1200, n_estimators=90,\n",
      "                           random_state=10, subsample=0.8)\n",
      "Best score : 0.7445479890552127\n",
      "Best parameters : {'min_samples_split': 1200}\n"
     ]
    }
   ],
   "source": [
    "# Fitting grid\n",
    "gsearch2.fit(X_train, y_train)\n",
    "\n",
    "# Best estimator\n",
    "print('Best estimator : {}'.format(gsearch2.best_estimator_))\n",
    "# Best score\n",
    "print('Best score : {}'.format(gsearch2.best_score_))\n",
    "# Best parameters\n",
    "print('Best parameters : {}'.format(gsearch2.best_params_))"
   ]
  },
  {
   "cell_type": "markdown",
   "metadata": {},
   "source": [
    "##########################################################################################################################"
   ]
  },
  {
   "cell_type": "markdown",
   "metadata": {},
   "source": [
    "Now we use grid search cv to find optimal min_samples_leaf hyperparameter"
   ]
  },
  {
   "cell_type": "code",
   "execution_count": 25,
   "metadata": {},
   "outputs": [
    {
     "name": "stdout",
     "output_type": "stream",
     "text": [
      "Best estimator : GradientBoostingClassifier(max_depth=8, max_features='sqrt',\n",
      "                           min_samples_leaf=30, min_samples_split=1000,\n",
      "                           random_state=10, subsample=0.8)\n",
      "Best score : 0.7489655584529901\n",
      "Best parameters : {'min_samples_leaf': 30}\n"
     ]
    }
   ],
   "source": [
    "param_test3 = { 'min_samples_leaf':range(30,100,10)}\n",
    "gsearch3 = GridSearchCV(estimator = GradientBoostingClassifier(learning_rate=0.1, max_depth=8,min_samples_split=1000,max_features='sqrt',subsample=0.8,random_state=10), \n",
    "param_grid = param_test3, scoring='roc_auc',n_jobs=-1,cv=5)\n",
    "gsearch3.fit(X_train, y_train)\n",
    "\n",
    "# Best estimator\n",
    "print('Best estimator : {}'.format(gsearch3.best_estimator_))\n",
    "# Best score\n",
    "print('Best score : {}'.format(gsearch3.best_score_))\n",
    "# Best parameters\n",
    "print('Best parameters : {}'.format(gsearch3.best_params_))"
   ]
  },
  {
   "cell_type": "markdown",
   "metadata": {},
   "source": [
    "Tuning hyperparameters for our GradientBoostingClassifier doesn't increase significantly results... \n",
    "Almost 75% for our roc_auc_score is not so bad."
   ]
  },
  {
   "cell_type": "markdown",
   "metadata": {},
   "source": [
    "##  2) RandomForrestClassifier"
   ]
  },
  {
   "cell_type": "code",
   "execution_count": 26,
   "metadata": {},
   "outputs": [
    {
     "data": {
      "text/plain": [
       "0.7162839814637902"
      ]
     },
     "execution_count": 26,
     "metadata": {},
     "output_type": "execute_result"
    }
   ],
   "source": [
    "from sklearn.ensemble import RandomForestClassifier\n",
    "\n",
    "\n",
    "# Creating estimator\n",
    "model = RandomForestClassifier()\n",
    "\n",
    "# Fitting model\n",
    "model.fit(X_train, y_train)\n",
    "\n",
    "# cross_val_score\n",
    "scores = cross_val_score(model, X_train, y_train, cv=5, scoring='roc_auc')\n",
    "\n",
    "# Printing mean score\n",
    "np.mean(scores)"
   ]
  },
  {
   "cell_type": "markdown",
   "metadata": {},
   "source": [
    "## 3) LogisticRegression"
   ]
  },
  {
   "cell_type": "code",
   "execution_count": 27,
   "metadata": {},
   "outputs": [
    {
     "name": "stderr",
     "output_type": "stream",
     "text": [
      "C:\\Users\\vanes\\anaconda3\\lib\\site-packages\\sklearn\\linear_model\\_logistic.py:762: ConvergenceWarning: lbfgs failed to converge (status=1):\n",
      "STOP: TOTAL NO. of ITERATIONS REACHED LIMIT.\n",
      "\n",
      "Increase the number of iterations (max_iter) or scale the data as shown in:\n",
      "    https://scikit-learn.org/stable/modules/preprocessing.html\n",
      "Please also refer to the documentation for alternative solver options:\n",
      "    https://scikit-learn.org/stable/modules/linear_model.html#logistic-regression\n",
      "  n_iter_i = _check_optimize_result(\n",
      "C:\\Users\\vanes\\anaconda3\\lib\\site-packages\\sklearn\\linear_model\\_logistic.py:762: ConvergenceWarning: lbfgs failed to converge (status=1):\n",
      "STOP: TOTAL NO. of ITERATIONS REACHED LIMIT.\n",
      "\n",
      "Increase the number of iterations (max_iter) or scale the data as shown in:\n",
      "    https://scikit-learn.org/stable/modules/preprocessing.html\n",
      "Please also refer to the documentation for alternative solver options:\n",
      "    https://scikit-learn.org/stable/modules/linear_model.html#logistic-regression\n",
      "  n_iter_i = _check_optimize_result(\n",
      "C:\\Users\\vanes\\anaconda3\\lib\\site-packages\\sklearn\\linear_model\\_logistic.py:762: ConvergenceWarning: lbfgs failed to converge (status=1):\n",
      "STOP: TOTAL NO. of ITERATIONS REACHED LIMIT.\n",
      "\n",
      "Increase the number of iterations (max_iter) or scale the data as shown in:\n",
      "    https://scikit-learn.org/stable/modules/preprocessing.html\n",
      "Please also refer to the documentation for alternative solver options:\n",
      "    https://scikit-learn.org/stable/modules/linear_model.html#logistic-regression\n",
      "  n_iter_i = _check_optimize_result(\n",
      "C:\\Users\\vanes\\anaconda3\\lib\\site-packages\\sklearn\\linear_model\\_logistic.py:762: ConvergenceWarning: lbfgs failed to converge (status=1):\n",
      "STOP: TOTAL NO. of ITERATIONS REACHED LIMIT.\n",
      "\n",
      "Increase the number of iterations (max_iter) or scale the data as shown in:\n",
      "    https://scikit-learn.org/stable/modules/preprocessing.html\n",
      "Please also refer to the documentation for alternative solver options:\n",
      "    https://scikit-learn.org/stable/modules/linear_model.html#logistic-regression\n",
      "  n_iter_i = _check_optimize_result(\n",
      "C:\\Users\\vanes\\anaconda3\\lib\\site-packages\\sklearn\\linear_model\\_logistic.py:762: ConvergenceWarning: lbfgs failed to converge (status=1):\n",
      "STOP: TOTAL NO. of ITERATIONS REACHED LIMIT.\n",
      "\n",
      "Increase the number of iterations (max_iter) or scale the data as shown in:\n",
      "    https://scikit-learn.org/stable/modules/preprocessing.html\n",
      "Please also refer to the documentation for alternative solver options:\n",
      "    https://scikit-learn.org/stable/modules/linear_model.html#logistic-regression\n",
      "  n_iter_i = _check_optimize_result(\n",
      "C:\\Users\\vanes\\anaconda3\\lib\\site-packages\\sklearn\\linear_model\\_logistic.py:762: ConvergenceWarning: lbfgs failed to converge (status=1):\n",
      "STOP: TOTAL NO. of ITERATIONS REACHED LIMIT.\n",
      "\n",
      "Increase the number of iterations (max_iter) or scale the data as shown in:\n",
      "    https://scikit-learn.org/stable/modules/preprocessing.html\n",
      "Please also refer to the documentation for alternative solver options:\n",
      "    https://scikit-learn.org/stable/modules/linear_model.html#logistic-regression\n",
      "  n_iter_i = _check_optimize_result(\n"
     ]
    },
    {
     "data": {
      "text/plain": [
       "0.734410859294858"
      ]
     },
     "execution_count": 27,
     "metadata": {},
     "output_type": "execute_result"
    }
   ],
   "source": [
    "from sklearn.linear_model import LogisticRegression\n",
    "\n",
    "\n",
    "# Creating estimator\n",
    "model = LogisticRegression()\n",
    "\n",
    "# Fitting model\n",
    "model.fit(X_train, y_train)\n",
    "\n",
    "# cross_val_score\n",
    "scores = cross_val_score(model, X_train, y_train, cv=5, scoring='roc_auc')\n",
    "\n",
    "# Printing mean score\n",
    "np.mean(scores)"
   ]
  },
  {
   "cell_type": "markdown",
   "metadata": {},
   "source": [
    "## 4 ) Knn Classifier"
   ]
  },
  {
   "cell_type": "code",
   "execution_count": 28,
   "metadata": {},
   "outputs": [
    {
     "data": {
      "text/plain": [
       "0.6067455946274188"
      ]
     },
     "execution_count": 28,
     "metadata": {},
     "output_type": "execute_result"
    }
   ],
   "source": [
    "from sklearn.neighbors import KNeighborsClassifier\n",
    "\n",
    "# Creating estimator\n",
    "model = KNeighborsClassifier()\n",
    "\n",
    "# Fitting model\n",
    "model.fit(X_train, y_train)\n",
    "\n",
    "# cross_val_score\n",
    "scores = cross_val_score(model, X_train, y_train, cv=5, scoring='roc_auc')\n",
    "\n",
    "# Printing mean score\n",
    "np.mean(scores)"
   ]
  },
  {
   "cell_type": "markdown",
   "metadata": {},
   "source": [
    "Finally our best score is : 0.7477\n",
    "\n",
    "Estimator : GradientBoostingClassifier(max_depth=8, max_features='sqrt',\n",
    "                           min_samples_leaf=50, min_samples_split=1000,\n",
    "                           random_state=10, subsample=0.8)"
   ]
  },
  {
   "cell_type": "markdown",
   "metadata": {},
   "source": [
    "## Features importances"
   ]
  },
  {
   "cell_type": "markdown",
   "metadata": {},
   "source": [
    "In this part, we want to plot importance of each feature accordind to our best model."
   ]
  },
  {
   "cell_type": "code",
   "execution_count": 29,
   "metadata": {},
   "outputs": [],
   "source": [
    "# Getting columns\n",
    "domain_features_names = list(X_train.columns)\n",
    "\n",
    "# Giving best model\n",
    "GB = GradientBoostingClassifier(max_depth = 8, max_features = 'sqrt',\n",
    "                           min_samples_leaf = 50, min_samples_split = 1000,\n",
    "                           random_state = 10, subsample = 0.8)\n",
    "\n",
    "# Fitting\n",
    "GB.fit(X_train, y_train)\n",
    "\n",
    "# Getting features importances\n",
    "feature_importance_values = GB.feature_importances_\n",
    "\n",
    "# Creating DataFrame of features' importance\n",
    "feature_importances = pd.DataFrame({'feature':domain_features_names,\n",
    "                                        'importance':feature_importance_values})"
   ]
  },
  {
   "cell_type": "code",
   "execution_count": 30,
   "metadata": {},
   "outputs": [],
   "source": [
    "def plot_feature_importances(df):\n",
    "    \n",
    "    # Sorting by importance\n",
    "    df=df.sort_values('importance',ascending=False).reset_index()\n",
    "    \n",
    "    \n",
    "    # Defining figure and axes\n",
    "    plt.figure(figsize=(10,6))\n",
    "    ax=plt.subplot()\n",
    "    \n",
    "    # Plotting histogram\n",
    "    ax.barh(list(reversed(list(df.index[:15]))), df['importance'].head(15), align='center',edgecolor='k')\n",
    "    \n",
    "    # Set the yticks and labels\n",
    "    ax.set_yticks(list(reversed(list(df.index[:15]))))\n",
    "    ax.set_yticklabels(df['feature'].head(15))\n",
    "    \n",
    "    # Plotting labeling\n",
    "    plt.xlabel('Normalized Importance'); plt.title('Feature Importances')\n",
    "    plt.show()\n",
    "    \n",
    "    return df"
   ]
  },
  {
   "cell_type": "code",
   "execution_count": 31,
   "metadata": {},
   "outputs": [
    {
     "data": {
      "image/png": "[encoded data removed]",
      "text/plain": [
       "<Figure size 720x432 with 1 Axes>"
      ]
     },
     "metadata": {
      "needs_background": "light"
     },
     "output_type": "display_data"
    },
    {
     "data": {
      "text/html": [
       "<div>\n",
       "<style scoped>\n",
       "    .dataframe tbody tr th:only-of-type {\n",
       "        vertical-align: middle;\n",
       "    }\n",
       "\n",
       "    .dataframe tbody tr th {\n",
       "        vertical-align: top;\n",
       "    }\n",
       "\n",
       "    .dataframe thead th {\n",
       "        text-align: right;\n",
       "    }\n",
       "</style>\n",
       "<table border=\"1\" class=\"dataframe\">\n",
       "  <thead>\n",
       "    <tr style=\"text-align: right;\">\n",
       "      <th></th>\n",
       "      <th>index</th>\n",
       "      <th>feature</th>\n",
       "      <th>importance</th>\n",
       "    </tr>\n",
       "  </thead>\n",
       "  <tbody>\n",
       "    <tr>\n",
       "      <th>0</th>\n",
       "      <td>9</td>\n",
       "      <td>EXT_SOURCE_3</td>\n",
       "      <td>0.307804</td>\n",
       "    </tr>\n",
       "    <tr>\n",
       "      <th>1</th>\n",
       "      <td>8</td>\n",
       "      <td>EXT_SOURCE_2</td>\n",
       "      <td>0.232660</td>\n",
       "    </tr>\n",
       "    <tr>\n",
       "      <th>2</th>\n",
       "      <td>13</td>\n",
       "      <td>CREDIT_ANNUITY_PERCENT</td>\n",
       "      <td>0.100583</td>\n",
       "    </tr>\n",
       "    <tr>\n",
       "      <th>3</th>\n",
       "      <td>5</td>\n",
       "      <td>DAYS_EMPLOYED</td>\n",
       "      <td>0.062704</td>\n",
       "    </tr>\n",
       "    <tr>\n",
       "      <th>4</th>\n",
       "      <td>14</td>\n",
       "      <td>CREDIT_GOOD_PERCENT</td>\n",
       "      <td>0.054649</td>\n",
       "    </tr>\n",
       "    <tr>\n",
       "      <th>5</th>\n",
       "      <td>7</td>\n",
       "      <td>DAYS_ID_PUBLISH</td>\n",
       "      <td>0.033632</td>\n",
       "    </tr>\n",
       "    <tr>\n",
       "      <th>6</th>\n",
       "      <td>4</td>\n",
       "      <td>AMT_GOODS_PRICE</td>\n",
       "      <td>0.032371</td>\n",
       "    </tr>\n",
       "    <tr>\n",
       "      <th>7</th>\n",
       "      <td>3</td>\n",
       "      <td>AMT_ANNUITY</td>\n",
       "      <td>0.032325</td>\n",
       "    </tr>\n",
       "    <tr>\n",
       "      <th>8</th>\n",
       "      <td>12</td>\n",
       "      <td>ANNUITY_INCOME_PERCENT</td>\n",
       "      <td>0.029002</td>\n",
       "    </tr>\n",
       "    <tr>\n",
       "      <th>9</th>\n",
       "      <td>6</td>\n",
       "      <td>DAYS_REGISTRATION</td>\n",
       "      <td>0.028418</td>\n",
       "    </tr>\n",
       "    <tr>\n",
       "      <th>10</th>\n",
       "      <td>2</td>\n",
       "      <td>AMT_CREDIT</td>\n",
       "      <td>0.024339</td>\n",
       "    </tr>\n",
       "    <tr>\n",
       "      <th>11</th>\n",
       "      <td>11</td>\n",
       "      <td>CREDIT_INCOME_PERCENT</td>\n",
       "      <td>0.023832</td>\n",
       "    </tr>\n",
       "    <tr>\n",
       "      <th>12</th>\n",
       "      <td>10</td>\n",
       "      <td>AGE</td>\n",
       "      <td>0.016899</td>\n",
       "    </tr>\n",
       "    <tr>\n",
       "      <th>13</th>\n",
       "      <td>1</td>\n",
       "      <td>AMT_INCOME_TOTAL</td>\n",
       "      <td>0.015576</td>\n",
       "    </tr>\n",
       "    <tr>\n",
       "      <th>14</th>\n",
       "      <td>0</td>\n",
       "      <td>CNT_CHILDREN</td>\n",
       "      <td>0.005205</td>\n",
       "    </tr>\n",
       "  </tbody>\n",
       "</table>\n",
       "</div>"
      ],
      "text/plain": [
       "    index                 feature  importance\n",
       "0       9            EXT_SOURCE_3    0.307804\n",
       "1       8            EXT_SOURCE_2    0.232660\n",
       "2      13  CREDIT_ANNUITY_PERCENT    0.100583\n",
       "3       5           DAYS_EMPLOYED    0.062704\n",
       "4      14     CREDIT_GOOD_PERCENT    0.054649\n",
       "5       7         DAYS_ID_PUBLISH    0.033632\n",
       "6       4         AMT_GOODS_PRICE    0.032371\n",
       "7       3             AMT_ANNUITY    0.032325\n",
       "8      12  ANNUITY_INCOME_PERCENT    0.029002\n",
       "9       6       DAYS_REGISTRATION    0.028418\n",
       "10      2              AMT_CREDIT    0.024339\n",
       "11     11   CREDIT_INCOME_PERCENT    0.023832\n",
       "12     10                     AGE    0.016899\n",
       "13      1        AMT_INCOME_TOTAL    0.015576\n",
       "14      0            CNT_CHILDREN    0.005205"
      ]
     },
     "execution_count": 31,
     "metadata": {},
     "output_type": "execute_result"
    }
   ],
   "source": [
    "plot_feature_importances(feature_importances)"
   ]
  },
  {
   "cell_type": "code",
   "execution_count": 32,
   "metadata": {},
   "outputs": [
    {
     "data": {
      "image/png": "[encoded data removed]",
      "text/plain": [
       "<Figure size 576x540 with 1 Axes>"
      ]
     },
     "metadata": {
      "needs_background": "light"
     },
     "output_type": "display_data"
    }
   ],
   "source": [
    "import shap\n",
    "shap_values = shap.TreeExplainer(GB).shap_values(X_train)\n",
    "shap.summary_plot(shap_values, X_train, plot_type=\"bar\")"
   ]
  },
  {
   "cell_type": "code",
   "execution_count": 33,
   "metadata": {},
   "outputs": [],
   "source": [
    "''' Plotting by correlation'''\n",
    "\n",
    "def ABS_SHAP(df_shap,df):\n",
    "    #import matplotlib as plt\n",
    "    # Make a copy of the input data\n",
    "    shap_v = pd.DataFrame(df_shap)\n",
    "    feature_list = df.columns\n",
    "    shap_v.columns = feature_list\n",
    "    df_v = df.copy().reset_index().drop('index',axis=1)\n",
    "    \n",
    "    # We Determine the correlation in order to plot with different colors\n",
    "    corr_list = list()\n",
    "    for i in feature_list:\n",
    "        b = np.corrcoef(shap_v[i],df_v[i])[1][0]\n",
    "        corr_list.append(b)\n",
    "    corr_df = pd.concat([pd.Series(feature_list),pd.Series(corr_list)],axis=1).fillna(0)\n",
    "    \n",
    "    #  We create a data frame. Column 1 is the feature, and Column 2 is the correlation coefficient\n",
    "    corr_df.columns  = ['Variable','Corr']\n",
    "    corr_df['Sign'] = np.where(corr_df['Corr']>0,'red','blue')\n",
    "    \n",
    "    # Plot it\n",
    "    shap_abs = np.abs(shap_v)\n",
    "    k=pd.DataFrame(shap_abs.mean()).reset_index()\n",
    "    k.columns = ['Variable','SHAP_abs']\n",
    "    k2 = k.merge(corr_df,left_on = 'Variable',right_on='Variable',how='inner')\n",
    "    k2 = k2.sort_values(by='SHAP_abs',ascending = True)\n",
    "    colorlist = k2['Sign']\n",
    "    ax = k2.plot.barh(x='Variable',y='SHAP_abs',color = colorlist, figsize=(5,6),legend = False)\n",
    "    ax.set_xlabel(\"SHAP Value (Red = Positive Impact)\")"
   ]
  },
  {
   "cell_type": "code",
   "execution_count": 34,
   "metadata": {},
   "outputs": [
    {
     "data": {
      "image/png": "[encoded data removed]",
      "text/plain": [
       "<Figure size 360x432 with 1 Axes>"
      ]
     },
     "metadata": {
      "needs_background": "light"
     },
     "output_type": "display_data"
    }
   ],
   "source": [
    "ABS_SHAP(shap_values,X_train) "
   ]
  },
  {
   "cell_type": "code",
   "execution_count": 35,
   "metadata": {},
   "outputs": [
    {
     "data": {
      "image/png": "[encoded data removed]",
      "text/plain": [
       "<Figure size 576x540 with 2 Axes>"
      ]
     },
     "metadata": {
      "needs_background": "light"
     },
     "output_type": "display_data"
    }
   ],
   "source": [
    "shap.summary_plot(shap_values, X_train)"
   ]
  },
  {
   "cell_type": "code",
   "execution_count": 36,
   "metadata": {},
   "outputs": [],
   "source": [
    "from sklearn.metrics import confusion_matrix\n",
    "from sklearn.model_selection import cross_val_predict\n",
    "\n",
    "# Predictions on our training set\n",
    "y_train_pred = cross_val_predict(GB, X_train, y_train, cv = 5)"
   ]
  },
  {
   "cell_type": "code",
   "execution_count": 37,
   "metadata": {},
   "outputs": [
    {
     "data": {
      "text/plain": [
       "array([[166076,    306],\n",
       "       [ 14852,    313]], dtype=int64)"
      ]
     },
     "execution_count": 37,
     "metadata": {},
     "output_type": "execute_result"
    }
   ],
   "source": [
    "# Confusion matrix\n",
    "confusion_matrix(y_train, y_train_pred)"
   ]
  },
  {
   "cell_type": "markdown",
   "metadata": {},
   "source": [
    "## ROC curve"
   ]
  },
  {
   "cell_type": "markdown",
   "metadata": {},
   "source": [
    "Roc curve plots false positives' rate compared at True positives' rate for each possible threshold"
   ]
  },
  {
   "cell_type": "code",
   "execution_count": 38,
   "metadata": {},
   "outputs": [],
   "source": [
    "# Applying decision function method\n",
    "y_scores = cross_val_predict(GB, X_train, y_train, cv = 5, method = 'decision_function')"
   ]
  },
  {
   "cell_type": "code",
   "execution_count": 39,
   "metadata": {},
   "outputs": [],
   "source": [
    "from sklearn.metrics import roc_curve\n",
    "\n",
    "# ROC curve\n",
    "fpr, tpr, thresholds = roc_curve(y_train, y_scores)"
   ]
  },
  {
   "cell_type": "code",
   "execution_count": 40,
   "metadata": {},
   "outputs": [],
   "source": [
    "def plot_roc_curve(fpr, tpr, label = None):\n",
    "    \n",
    "    \n",
    "    # Defining figure and axes\n",
    "    plt.figure(figsize=(10,6))\n",
    "    ax=plt.subplot()\n",
    "    \n",
    "    # Plotting roc_curve\n",
    "    plt.plot(fpr, tpr, linewidth = 2, label = label)\n",
    "    # Potting dotted diagonal\n",
    "    plt.plot([0, 1], [0, 1], 'k--')"
   ]
  },
  {
   "cell_type": "code",
   "execution_count": 41,
   "metadata": {},
   "outputs": [
    {
     "name": "stderr",
     "output_type": "stream",
     "text": [
      "No handles with labels found to put in legend.\n"
     ]
    },
    {
     "data": {
      "text/plain": [
       "<matplotlib.legend.Legend at 0x263028927f0>"
      ]
     },
     "execution_count": 41,
     "metadata": {},
     "output_type": "execute_result"
    },
    {
     "data": {
      "image/png": "[encoded data removed]",
      "text/plain": [
       "<Figure size 720x432 with 1 Axes>"
      ]
     },
     "metadata": {
      "needs_background": "light"
     },
     "output_type": "display_data"
    }
   ],
   "source": [
    "plot_roc_curve(fpr, tpr)\n",
    "plt.legend(loc = 'lower right')"
   ]
  },
  {
   "cell_type": "code",
   "execution_count": 42,
   "metadata": {},
   "outputs": [],
   "source": [
    "from sklearn.metrics import precision_recall_curve\n",
    "\n",
    "# Getting precisions, recalls and thresholds\n",
    "precisions, recalls, thresholds = precision_recall_curve(y_train, y_scores)"
   ]
  },
  {
   "cell_type": "code",
   "execution_count": 43,
   "metadata": {},
   "outputs": [],
   "source": [
    "def plot_precision_recall_vs_threshold (precisions, recalls, thresholds):\n",
    "    \n",
    "    plt.plot(thresholds, precisions[:-1], 'b--', label = 'Precision')\n",
    "    plt.plot(thresholds, recalls[:-1], 'b--', label = 'Recall')\n",
    "    "
   ]
  },
  {
   "cell_type": "code",
   "execution_count": 44,
   "metadata": {},
   "outputs": [
    {
     "data": {
      "image/png": "[encoded data removed]",
      "text/plain": [
       "<Figure size 432x288 with 1 Axes>"
      ]
     },
     "metadata": {
      "needs_background": "light"
     },
     "output_type": "display_data"
    }
   ],
   "source": [
    "plot_precision_recall_vs_threshold (precisions, recalls, thresholds)"
   ]
  }
 ],
 "metadata": {
  "kernelspec": {
   "display_name": "Python 3",
   "language": "python",
   "name": "python3"
  },
  "language_info": {
   "codemirror_mode": {
    "name": "ipython",
    "version": 3
   },
   "file_extension": ".py",
   "mimetype": "text/x-python",
   "name": "python",
   "nbconvert_exporter": "python",
   "pygments_lexer": "ipython3",
   "version": "3.8.3"
  }
 },
 "nbformat": 4,
 "nbformat_minor": 4
}
