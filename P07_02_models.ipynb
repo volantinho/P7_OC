{
 "cells": [
  {
   "cell_type": "code",
   "execution_count": 88,
   "metadata": {},
   "outputs": [
    {
     "name": "stdout",
     "output_type": "stream",
     "text": [
      "Populating the interactive namespace from numpy and matplotlib\n"
     ]
    }
   ],
   "source": [
    "%pylab inline\n",
    "import pandas as pd\n",
    "import seaborn as sns\n",
    "import numpy as np\n",
    "from collections import Counter\n",
    "import warnings\n",
    "warnings.filterwarnings(action='ignore', category=UserWarning)"
   ]
  },
  {
   "cell_type": "code",
   "execution_count": 89,
   "metadata": {},
   "outputs": [],
   "source": [
    "X = pd.read_csv('C:/Users/VOLANTE/anaconda3/envs/OC/P7/X_credit.csv', index_col = 0)"
   ]
  },
  {
   "cell_type": "code",
   "execution_count": 90,
   "metadata": {},
   "outputs": [],
   "source": [
    "y =  pd.read_csv('C:/Users/VOLANTE/anaconda3/envs/OC/P7/y_credit.csv', index_col = 0)"
   ]
  },
  {
   "cell_type": "code",
   "execution_count": 91,
   "metadata": {},
   "outputs": [
    {
     "data": {
      "text/html": [
       "<div>\n",
       "<style scoped>\n",
       "    .dataframe tbody tr th:only-of-type {\n",
       "        vertical-align: middle;\n",
       "    }\n",
       "\n",
       "    .dataframe tbody tr th {\n",
       "        vertical-align: top;\n",
       "    }\n",
       "\n",
       "    .dataframe thead th {\n",
       "        text-align: right;\n",
       "    }\n",
       "</style>\n",
       "<table border=\"1\" class=\"dataframe\">\n",
       "  <thead>\n",
       "    <tr style=\"text-align: right;\">\n",
       "      <th></th>\n",
       "      <th>AMT_INCOME_TOTAL</th>\n",
       "      <th>AMT_CREDIT</th>\n",
       "      <th>AMT_ANNUITY</th>\n",
       "      <th>AMT_GOODS_PRICE</th>\n",
       "      <th>DAYS_EMPLOYED</th>\n",
       "      <th>DAYS_REGISTRATION</th>\n",
       "      <th>DAYS_ID_PUBLISH</th>\n",
       "      <th>REGION_RATING_CLIENT_W_CITY</th>\n",
       "      <th>REG_CITY_NOT_LIVE_CITY</th>\n",
       "      <th>REG_CITY_NOT_WORK_CITY</th>\n",
       "      <th>LIVE_CITY_NOT_WORK_CITY</th>\n",
       "      <th>EXT_SOURCE_2</th>\n",
       "      <th>EXT_SOURCE_3</th>\n",
       "      <th>AGE</th>\n",
       "      <th>CREDIT_INCOME_PERCENT</th>\n",
       "    </tr>\n",
       "  </thead>\n",
       "  <tbody>\n",
       "    <tr>\n",
       "      <th>2</th>\n",
       "      <td>67500.0</td>\n",
       "      <td>135000.0</td>\n",
       "      <td>6750.0</td>\n",
       "      <td>135000.0</td>\n",
       "      <td>225</td>\n",
       "      <td>4260.0</td>\n",
       "      <td>2531</td>\n",
       "      <td>2</td>\n",
       "      <td>0</td>\n",
       "      <td>0</td>\n",
       "      <td>0</td>\n",
       "      <td>0.555912</td>\n",
       "      <td>0.729567</td>\n",
       "      <td>6</td>\n",
       "      <td>2.000000</td>\n",
       "    </tr>\n",
       "    <tr>\n",
       "      <th>5</th>\n",
       "      <td>99000.0</td>\n",
       "      <td>490495.5</td>\n",
       "      <td>27517.5</td>\n",
       "      <td>454500.0</td>\n",
       "      <td>1588</td>\n",
       "      <td>4970.0</td>\n",
       "      <td>477</td>\n",
       "      <td>2</td>\n",
       "      <td>0</td>\n",
       "      <td>0</td>\n",
       "      <td>0</td>\n",
       "      <td>0.354225</td>\n",
       "      <td>0.621226</td>\n",
       "      <td>5</td>\n",
       "      <td>4.954500</td>\n",
       "    </tr>\n",
       "    <tr>\n",
       "      <th>6</th>\n",
       "      <td>171000.0</td>\n",
       "      <td>1560726.0</td>\n",
       "      <td>41301.0</td>\n",
       "      <td>1395000.0</td>\n",
       "      <td>3130</td>\n",
       "      <td>1213.0</td>\n",
       "      <td>619</td>\n",
       "      <td>2</td>\n",
       "      <td>0</td>\n",
       "      <td>0</td>\n",
       "      <td>0</td>\n",
       "      <td>0.724000</td>\n",
       "      <td>0.492060</td>\n",
       "      <td>3</td>\n",
       "      <td>9.127053</td>\n",
       "    </tr>\n",
       "    <tr>\n",
       "      <th>7</th>\n",
       "      <td>360000.0</td>\n",
       "      <td>1530000.0</td>\n",
       "      <td>42075.0</td>\n",
       "      <td>1530000.0</td>\n",
       "      <td>449</td>\n",
       "      <td>4597.0</td>\n",
       "      <td>2379</td>\n",
       "      <td>3</td>\n",
       "      <td>0</td>\n",
       "      <td>1</td>\n",
       "      <td>1</td>\n",
       "      <td>0.714279</td>\n",
       "      <td>0.540654</td>\n",
       "      <td>6</td>\n",
       "      <td>4.250000</td>\n",
       "    </tr>\n",
       "    <tr>\n",
       "      <th>10</th>\n",
       "      <td>112500.0</td>\n",
       "      <td>652500.0</td>\n",
       "      <td>21177.0</td>\n",
       "      <td>652500.0</td>\n",
       "      <td>679</td>\n",
       "      <td>4427.0</td>\n",
       "      <td>738</td>\n",
       "      <td>2</td>\n",
       "      <td>0</td>\n",
       "      <td>0</td>\n",
       "      <td>0</td>\n",
       "      <td>0.651862</td>\n",
       "      <td>0.363945</td>\n",
       "      <td>1</td>\n",
       "      <td>5.800000</td>\n",
       "    </tr>\n",
       "  </tbody>\n",
       "</table>\n",
       "</div>"
      ],
      "text/plain": [
       "    AMT_INCOME_TOTAL  AMT_CREDIT  AMT_ANNUITY  AMT_GOODS_PRICE  DAYS_EMPLOYED  \\\n",
       "2            67500.0    135000.0       6750.0         135000.0            225   \n",
       "5            99000.0    490495.5      27517.5         454500.0           1588   \n",
       "6           171000.0   1560726.0      41301.0        1395000.0           3130   \n",
       "7           360000.0   1530000.0      42075.0        1530000.0            449   \n",
       "10          112500.0    652500.0      21177.0         652500.0            679   \n",
       "\n",
       "    DAYS_REGISTRATION  DAYS_ID_PUBLISH  REGION_RATING_CLIENT_W_CITY  \\\n",
       "2              4260.0             2531                            2   \n",
       "5              4970.0              477                            2   \n",
       "6              1213.0              619                            2   \n",
       "7              4597.0             2379                            3   \n",
       "10             4427.0              738                            2   \n",
       "\n",
       "    REG_CITY_NOT_LIVE_CITY  REG_CITY_NOT_WORK_CITY  LIVE_CITY_NOT_WORK_CITY  \\\n",
       "2                        0                       0                        0   \n",
       "5                        0                       0                        0   \n",
       "6                        0                       0                        0   \n",
       "7                        0                       1                        1   \n",
       "10                       0                       0                        0   \n",
       "\n",
       "    EXT_SOURCE_2  EXT_SOURCE_3  AGE  CREDIT_INCOME_PERCENT  \n",
       "2       0.555912      0.729567    6               2.000000  \n",
       "5       0.354225      0.621226    5               4.954500  \n",
       "6       0.724000      0.492060    3               9.127053  \n",
       "7       0.714279      0.540654    6               4.250000  \n",
       "10      0.651862      0.363945    1               5.800000  "
      ]
     },
     "execution_count": 91,
     "metadata": {},
     "output_type": "execute_result"
    }
   ],
   "source": [
    "X.head()"
   ]
  },
  {
   "cell_type": "code",
   "execution_count": 92,
   "metadata": {},
   "outputs": [],
   "source": [
    "X.reset_index(drop = True, inplace = True)"
   ]
  },
  {
   "cell_type": "code",
   "execution_count": 93,
   "metadata": {},
   "outputs": [
    {
     "data": {
      "text/html": [
       "<div>\n",
       "<style scoped>\n",
       "    .dataframe tbody tr th:only-of-type {\n",
       "        vertical-align: middle;\n",
       "    }\n",
       "\n",
       "    .dataframe tbody tr th {\n",
       "        vertical-align: top;\n",
       "    }\n",
       "\n",
       "    .dataframe thead th {\n",
       "        text-align: right;\n",
       "    }\n",
       "</style>\n",
       "<table border=\"1\" class=\"dataframe\">\n",
       "  <thead>\n",
       "    <tr style=\"text-align: right;\">\n",
       "      <th></th>\n",
       "      <th>AMT_INCOME_TOTAL</th>\n",
       "      <th>AMT_CREDIT</th>\n",
       "      <th>AMT_ANNUITY</th>\n",
       "      <th>AMT_GOODS_PRICE</th>\n",
       "      <th>DAYS_EMPLOYED</th>\n",
       "      <th>DAYS_REGISTRATION</th>\n",
       "      <th>DAYS_ID_PUBLISH</th>\n",
       "      <th>REGION_RATING_CLIENT_W_CITY</th>\n",
       "      <th>REG_CITY_NOT_LIVE_CITY</th>\n",
       "      <th>REG_CITY_NOT_WORK_CITY</th>\n",
       "      <th>LIVE_CITY_NOT_WORK_CITY</th>\n",
       "      <th>EXT_SOURCE_2</th>\n",
       "      <th>EXT_SOURCE_3</th>\n",
       "      <th>AGE</th>\n",
       "      <th>CREDIT_INCOME_PERCENT</th>\n",
       "    </tr>\n",
       "  </thead>\n",
       "  <tbody>\n",
       "    <tr>\n",
       "      <th>0</th>\n",
       "      <td>67500.0</td>\n",
       "      <td>135000.0</td>\n",
       "      <td>6750.0</td>\n",
       "      <td>135000.0</td>\n",
       "      <td>225</td>\n",
       "      <td>4260.0</td>\n",
       "      <td>2531</td>\n",
       "      <td>2</td>\n",
       "      <td>0</td>\n",
       "      <td>0</td>\n",
       "      <td>0</td>\n",
       "      <td>0.555912</td>\n",
       "      <td>0.729567</td>\n",
       "      <td>6</td>\n",
       "      <td>2.000000</td>\n",
       "    </tr>\n",
       "    <tr>\n",
       "      <th>1</th>\n",
       "      <td>99000.0</td>\n",
       "      <td>490495.5</td>\n",
       "      <td>27517.5</td>\n",
       "      <td>454500.0</td>\n",
       "      <td>1588</td>\n",
       "      <td>4970.0</td>\n",
       "      <td>477</td>\n",
       "      <td>2</td>\n",
       "      <td>0</td>\n",
       "      <td>0</td>\n",
       "      <td>0</td>\n",
       "      <td>0.354225</td>\n",
       "      <td>0.621226</td>\n",
       "      <td>5</td>\n",
       "      <td>4.954500</td>\n",
       "    </tr>\n",
       "    <tr>\n",
       "      <th>2</th>\n",
       "      <td>171000.0</td>\n",
       "      <td>1560726.0</td>\n",
       "      <td>41301.0</td>\n",
       "      <td>1395000.0</td>\n",
       "      <td>3130</td>\n",
       "      <td>1213.0</td>\n",
       "      <td>619</td>\n",
       "      <td>2</td>\n",
       "      <td>0</td>\n",
       "      <td>0</td>\n",
       "      <td>0</td>\n",
       "      <td>0.724000</td>\n",
       "      <td>0.492060</td>\n",
       "      <td>3</td>\n",
       "      <td>9.127053</td>\n",
       "    </tr>\n",
       "    <tr>\n",
       "      <th>3</th>\n",
       "      <td>360000.0</td>\n",
       "      <td>1530000.0</td>\n",
       "      <td>42075.0</td>\n",
       "      <td>1530000.0</td>\n",
       "      <td>449</td>\n",
       "      <td>4597.0</td>\n",
       "      <td>2379</td>\n",
       "      <td>3</td>\n",
       "      <td>0</td>\n",
       "      <td>1</td>\n",
       "      <td>1</td>\n",
       "      <td>0.714279</td>\n",
       "      <td>0.540654</td>\n",
       "      <td>6</td>\n",
       "      <td>4.250000</td>\n",
       "    </tr>\n",
       "  </tbody>\n",
       "</table>\n",
       "</div>"
      ],
      "text/plain": [
       "   AMT_INCOME_TOTAL  AMT_CREDIT  AMT_ANNUITY  AMT_GOODS_PRICE  DAYS_EMPLOYED  \\\n",
       "0           67500.0    135000.0       6750.0         135000.0            225   \n",
       "1           99000.0    490495.5      27517.5         454500.0           1588   \n",
       "2          171000.0   1560726.0      41301.0        1395000.0           3130   \n",
       "3          360000.0   1530000.0      42075.0        1530000.0            449   \n",
       "\n",
       "   DAYS_REGISTRATION  DAYS_ID_PUBLISH  REGION_RATING_CLIENT_W_CITY  \\\n",
       "0             4260.0             2531                            2   \n",
       "1             4970.0              477                            2   \n",
       "2             1213.0              619                            2   \n",
       "3             4597.0             2379                            3   \n",
       "\n",
       "   REG_CITY_NOT_LIVE_CITY  REG_CITY_NOT_WORK_CITY  LIVE_CITY_NOT_WORK_CITY  \\\n",
       "0                       0                       0                        0   \n",
       "1                       0                       0                        0   \n",
       "2                       0                       0                        0   \n",
       "3                       0                       1                        1   \n",
       "\n",
       "   EXT_SOURCE_2  EXT_SOURCE_3  AGE  CREDIT_INCOME_PERCENT  \n",
       "0      0.555912      0.729567    6               2.000000  \n",
       "1      0.354225      0.621226    5               4.954500  \n",
       "2      0.724000      0.492060    3               9.127053  \n",
       "3      0.714279      0.540654    6               4.250000  "
      ]
     },
     "execution_count": 93,
     "metadata": {},
     "output_type": "execute_result"
    }
   ],
   "source": [
    "X.head(4)"
   ]
  },
  {
   "cell_type": "code",
   "execution_count": 94,
   "metadata": {},
   "outputs": [
    {
     "data": {
      "text/html": [
       "<div>\n",
       "<style scoped>\n",
       "    .dataframe tbody tr th:only-of-type {\n",
       "        vertical-align: middle;\n",
       "    }\n",
       "\n",
       "    .dataframe tbody tr th {\n",
       "        vertical-align: top;\n",
       "    }\n",
       "\n",
       "    .dataframe thead th {\n",
       "        text-align: right;\n",
       "    }\n",
       "</style>\n",
       "<table border=\"1\" class=\"dataframe\">\n",
       "  <thead>\n",
       "    <tr style=\"text-align: right;\">\n",
       "      <th></th>\n",
       "      <th>TARGET</th>\n",
       "    </tr>\n",
       "  </thead>\n",
       "  <tbody>\n",
       "    <tr>\n",
       "      <th>307448</th>\n",
       "      <td>1</td>\n",
       "    </tr>\n",
       "    <tr>\n",
       "      <th>307475</th>\n",
       "      <td>1</td>\n",
       "    </tr>\n",
       "    <tr>\n",
       "      <th>307481</th>\n",
       "      <td>1</td>\n",
       "    </tr>\n",
       "    <tr>\n",
       "      <th>307489</th>\n",
       "      <td>1</td>\n",
       "    </tr>\n",
       "    <tr>\n",
       "      <th>307509</th>\n",
       "      <td>1</td>\n",
       "    </tr>\n",
       "  </tbody>\n",
       "</table>\n",
       "</div>"
      ],
      "text/plain": [
       "        TARGET\n",
       "307448       1\n",
       "307475       1\n",
       "307481       1\n",
       "307489       1\n",
       "307509       1"
      ]
     },
     "execution_count": 94,
     "metadata": {},
     "output_type": "execute_result"
    }
   ],
   "source": [
    "y.tail()"
   ]
  },
  {
   "cell_type": "code",
   "execution_count": 95,
   "metadata": {},
   "outputs": [],
   "source": [
    "# Giving an array\n",
    "y = y.values"
   ]
  },
  {
   "cell_type": "code",
   "execution_count": 96,
   "metadata": {},
   "outputs": [],
   "source": [
    "# Ravel\n",
    "y = y.ravel()"
   ]
  },
  {
   "cell_type": "code",
   "execution_count": 97,
   "metadata": {},
   "outputs": [
    {
     "data": {
      "text/plain": [
       "array([0, 0, 0, ..., 1, 1, 1], dtype=int64)"
      ]
     },
     "execution_count": 97,
     "metadata": {},
     "output_type": "execute_result"
    }
   ],
   "source": [
    "y"
   ]
  },
  {
   "cell_type": "markdown",
   "metadata": {},
   "source": [
    "###############################################################################################################################"
   ]
  },
  {
   "cell_type": "markdown",
   "metadata": {},
   "source": [
    "## Resampling"
   ]
  },
  {
   "cell_type": "code",
   "execution_count": 11,
   "metadata": {},
   "outputs": [
    {
     "name": "stdout",
     "output_type": "stream",
     "text": [
      "Class=0, n=184901, (91.66265944209519)%)\n",
      "Class=1, n=16818, (8.337340557904808)%)\n"
     ]
    }
   ],
   "source": [
    "# Getting proportions\n",
    "counter = Counter(y)\n",
    "for k, v in counter.items():\n",
    "    dist = v / len(y) * 100\n",
    "    print(f\"Class={k}, n={v}, ({dist})%)\")"
   ]
  },
  {
   "cell_type": "markdown",
   "metadata": {},
   "source": [
    "8% VS 92%.... Clearly our dataset is imbalanced.\n",
    "At this point, we could have a really good score for accuracy, but it won't be a good indicator in this case.\n",
    "And if we use f1_score, we'll probably have bad results.\n",
    "We'll check, but I think we must resample here"
   ]
  },
  {
   "cell_type": "markdown",
   "metadata": {},
   "source": [
    "###  Using SMOTE / ADASYN"
   ]
  },
  {
   "cell_type": "code",
   "execution_count": 12,
   "metadata": {},
   "outputs": [
    {
     "name": "stdout",
     "output_type": "stream",
     "text": [
      "Requirement already satisfied: imblearn in c:\\users\\volante\\anaconda3\\envs\\oc\\lib\\site-packages (0.0)\n",
      "Requirement already satisfied: imbalanced-learn in c:\\users\\volante\\anaconda3\\envs\\oc\\lib\\site-packages (from imblearn) (0.8.0)\n",
      "Requirement already satisfied: scipy>=0.19.1 in c:\\users\\volante\\anaconda3\\envs\\oc\\lib\\site-packages (from imbalanced-learn->imblearn) (1.6.3)\n",
      "Requirement already satisfied: scikit-learn>=0.24 in c:\\users\\volante\\anaconda3\\envs\\oc\\lib\\site-packages (from imbalanced-learn->imblearn) (0.24.2)\n",
      "Requirement already satisfied: numpy>=1.13.3 in c:\\users\\volante\\anaconda3\\envs\\oc\\lib\\site-packages (from imbalanced-learn->imblearn) (1.20.2)\n",
      "Requirement already satisfied: joblib>=0.11 in c:\\users\\volante\\anaconda3\\envs\\oc\\lib\\site-packages (from imbalanced-learn->imblearn) (1.0.1)\n",
      "Requirement already satisfied: threadpoolctl>=2.0.0 in c:\\users\\volante\\anaconda3\\envs\\oc\\lib\\site-packages (from scikit-learn>=0.24->imbalanced-learn->imblearn) (2.1.0)\n"
     ]
    }
   ],
   "source": [
    "!pip install imblearn "
   ]
  },
  {
   "cell_type": "code",
   "execution_count": 13,
   "metadata": {},
   "outputs": [],
   "source": [
    "from imblearn.over_sampling import SMOTE, ADASYN"
   ]
  },
  {
   "cell_type": "markdown",
   "metadata": {},
   "source": [
    "### a) Smote"
   ]
  },
  {
   "cell_type": "markdown",
   "metadata": {},
   "source": [
    "In this part, we are going to oversample minority class et undersampling majority class"
   ]
  },
  {
   "cell_type": "code",
   "execution_count": 98,
   "metadata": {},
   "outputs": [],
   "source": [
    "# Smote\n",
    "X_resampled_smote, y_resampled_smote = SMOTE().fit_resample(X, y)"
   ]
  },
  {
   "cell_type": "code",
   "execution_count": 99,
   "metadata": {},
   "outputs": [
    {
     "name": "stdout",
     "output_type": "stream",
     "text": [
      "Class=0, n=184901, (50.0)%)\n",
      "Class=1, n=184901, (50.0)%)\n"
     ]
    }
   ],
   "source": [
    "# Getting proportions\n",
    "counter = Counter(y_resampled_smote)\n",
    "for k, v in counter.items():\n",
    "    dist = v / len(y_resampled_smote) * 100\n",
    "    print(f\"Class={k}, n={v}, ({dist})%)\")"
   ]
  },
  {
   "cell_type": "code",
   "execution_count": 100,
   "metadata": {},
   "outputs": [],
   "source": [
    "from imblearn.under_sampling import RandomUnderSampler\n",
    "from imblearn.pipeline import Pipeline\n",
    "\n",
    "\n",
    "# We both oversample minority class et undersample majority class with a pipeline\n",
    "oversample = SMOTE()\n",
    "undersample = RandomUnderSampler()\n",
    "\n",
    "steps = [('o', oversample), ('u', undersample)]\n",
    "pipeline = Pipeline(steps = steps)\n",
    "\n",
    "# Trasnforming dataset\n",
    "X_resampled_smote, y_resampled_smote = pipeline.fit_resample(X, y)"
   ]
  },
  {
   "cell_type": "markdown",
   "metadata": {},
   "source": [
    "Here, we make some adjustmets, to have stats for our future application"
   ]
  },
  {
   "cell_type": "code",
   "execution_count": 101,
   "metadata": {},
   "outputs": [],
   "source": [
    "# Getting our stats table (80%)\n",
    "X_resampled_smote_2 = X_resampled_smote"
   ]
  },
  {
   "cell_type": "code",
   "execution_count": 102,
   "metadata": {},
   "outputs": [],
   "source": [
    "def encode(x):\n",
    "    '''This function encodes AGE'''\n",
    "    \n",
    "    \n",
    "    if x == 0:\n",
    "        return 22.5\n",
    "    elif x == 1:\n",
    "        return 27.5\n",
    "    elif x == 2:\n",
    "        return 32.5\n",
    "    elif x == 3:\n",
    "        return 37.5\n",
    "    elif x == 4:\n",
    "        return 42.5\n",
    "    elif x == 5:\n",
    "        return 47.5\n",
    "    elif x == 6:\n",
    "        return 52.5\n",
    "    elif x == 7:\n",
    "        return 57.5\n",
    "    elif x == 8:\n",
    "        return 62.5\n",
    "    else:\n",
    "        return 67.5\n",
    "    \n",
    "    \n",
    "# Apply    \n",
    "X_resampled_smote_2['AGE'] = X_resampled_smote_2['AGE'].apply(encode)\n"
   ]
  },
  {
   "cell_type": "code",
   "execution_count": 103,
   "metadata": {},
   "outputs": [
    {
     "data": {
      "text/html": [
       "<div>\n",
       "<style scoped>\n",
       "    .dataframe tbody tr th:only-of-type {\n",
       "        vertical-align: middle;\n",
       "    }\n",
       "\n",
       "    .dataframe tbody tr th {\n",
       "        vertical-align: top;\n",
       "    }\n",
       "\n",
       "    .dataframe thead th {\n",
       "        text-align: right;\n",
       "    }\n",
       "</style>\n",
       "<table border=\"1\" class=\"dataframe\">\n",
       "  <thead>\n",
       "    <tr style=\"text-align: right;\">\n",
       "      <th></th>\n",
       "      <th>AMT_INCOME_TOTAL</th>\n",
       "      <th>AMT_CREDIT</th>\n",
       "      <th>AMT_ANNUITY</th>\n",
       "      <th>AMT_GOODS_PRICE</th>\n",
       "      <th>DAYS_EMPLOYED</th>\n",
       "      <th>DAYS_REGISTRATION</th>\n",
       "      <th>DAYS_ID_PUBLISH</th>\n",
       "      <th>REGION_RATING_CLIENT_W_CITY</th>\n",
       "      <th>REG_CITY_NOT_LIVE_CITY</th>\n",
       "      <th>REG_CITY_NOT_WORK_CITY</th>\n",
       "      <th>LIVE_CITY_NOT_WORK_CITY</th>\n",
       "      <th>EXT_SOURCE_2</th>\n",
       "      <th>EXT_SOURCE_3</th>\n",
       "      <th>AGE</th>\n",
       "      <th>CREDIT_INCOME_PERCENT</th>\n",
       "    </tr>\n",
       "  </thead>\n",
       "  <tbody>\n",
       "    <tr>\n",
       "      <th>0</th>\n",
       "      <td>67500.0</td>\n",
       "      <td>135000.0</td>\n",
       "      <td>6750.0</td>\n",
       "      <td>135000.0</td>\n",
       "      <td>225</td>\n",
       "      <td>4260.0</td>\n",
       "      <td>2531</td>\n",
       "      <td>2</td>\n",
       "      <td>0</td>\n",
       "      <td>0</td>\n",
       "      <td>0</td>\n",
       "      <td>0.555912</td>\n",
       "      <td>0.729567</td>\n",
       "      <td>52.5</td>\n",
       "      <td>2.000000</td>\n",
       "    </tr>\n",
       "    <tr>\n",
       "      <th>1</th>\n",
       "      <td>99000.0</td>\n",
       "      <td>490495.5</td>\n",
       "      <td>27517.5</td>\n",
       "      <td>454500.0</td>\n",
       "      <td>1588</td>\n",
       "      <td>4970.0</td>\n",
       "      <td>477</td>\n",
       "      <td>2</td>\n",
       "      <td>0</td>\n",
       "      <td>0</td>\n",
       "      <td>0</td>\n",
       "      <td>0.354225</td>\n",
       "      <td>0.621226</td>\n",
       "      <td>47.5</td>\n",
       "      <td>4.954500</td>\n",
       "    </tr>\n",
       "    <tr>\n",
       "      <th>2</th>\n",
       "      <td>171000.0</td>\n",
       "      <td>1560726.0</td>\n",
       "      <td>41301.0</td>\n",
       "      <td>1395000.0</td>\n",
       "      <td>3130</td>\n",
       "      <td>1213.0</td>\n",
       "      <td>619</td>\n",
       "      <td>2</td>\n",
       "      <td>0</td>\n",
       "      <td>0</td>\n",
       "      <td>0</td>\n",
       "      <td>0.724000</td>\n",
       "      <td>0.492060</td>\n",
       "      <td>37.5</td>\n",
       "      <td>9.127053</td>\n",
       "    </tr>\n",
       "    <tr>\n",
       "      <th>3</th>\n",
       "      <td>360000.0</td>\n",
       "      <td>1530000.0</td>\n",
       "      <td>42075.0</td>\n",
       "      <td>1530000.0</td>\n",
       "      <td>449</td>\n",
       "      <td>4597.0</td>\n",
       "      <td>2379</td>\n",
       "      <td>3</td>\n",
       "      <td>0</td>\n",
       "      <td>1</td>\n",
       "      <td>1</td>\n",
       "      <td>0.714279</td>\n",
       "      <td>0.540654</td>\n",
       "      <td>52.5</td>\n",
       "      <td>4.250000</td>\n",
       "    </tr>\n",
       "    <tr>\n",
       "      <th>4</th>\n",
       "      <td>112500.0</td>\n",
       "      <td>652500.0</td>\n",
       "      <td>21177.0</td>\n",
       "      <td>652500.0</td>\n",
       "      <td>679</td>\n",
       "      <td>4427.0</td>\n",
       "      <td>738</td>\n",
       "      <td>2</td>\n",
       "      <td>0</td>\n",
       "      <td>0</td>\n",
       "      <td>0</td>\n",
       "      <td>0.651862</td>\n",
       "      <td>0.363945</td>\n",
       "      <td>27.5</td>\n",
       "      <td>5.800000</td>\n",
       "    </tr>\n",
       "  </tbody>\n",
       "</table>\n",
       "</div>"
      ],
      "text/plain": [
       "   AMT_INCOME_TOTAL  AMT_CREDIT  AMT_ANNUITY  AMT_GOODS_PRICE  DAYS_EMPLOYED  \\\n",
       "0           67500.0    135000.0       6750.0         135000.0            225   \n",
       "1           99000.0    490495.5      27517.5         454500.0           1588   \n",
       "2          171000.0   1560726.0      41301.0        1395000.0           3130   \n",
       "3          360000.0   1530000.0      42075.0        1530000.0            449   \n",
       "4          112500.0    652500.0      21177.0         652500.0            679   \n",
       "\n",
       "   DAYS_REGISTRATION  DAYS_ID_PUBLISH  REGION_RATING_CLIENT_W_CITY  \\\n",
       "0             4260.0             2531                            2   \n",
       "1             4970.0              477                            2   \n",
       "2             1213.0              619                            2   \n",
       "3             4597.0             2379                            3   \n",
       "4             4427.0              738                            2   \n",
       "\n",
       "   REG_CITY_NOT_LIVE_CITY  REG_CITY_NOT_WORK_CITY  LIVE_CITY_NOT_WORK_CITY  \\\n",
       "0                       0                       0                        0   \n",
       "1                       0                       0                        0   \n",
       "2                       0                       0                        0   \n",
       "3                       0                       1                        1   \n",
       "4                       0                       0                        0   \n",
       "\n",
       "   EXT_SOURCE_2  EXT_SOURCE_3   AGE  CREDIT_INCOME_PERCENT  \n",
       "0      0.555912      0.729567  52.5               2.000000  \n",
       "1      0.354225      0.621226  47.5               4.954500  \n",
       "2      0.724000      0.492060  37.5               9.127053  \n",
       "3      0.714279      0.540654  52.5               4.250000  \n",
       "4      0.651862      0.363945  27.5               5.800000  "
      ]
     },
     "execution_count": 103,
     "metadata": {},
     "output_type": "execute_result"
    }
   ],
   "source": [
    "X_resampled_smote_2.head()"
   ]
  },
  {
   "cell_type": "code",
   "execution_count": 104,
   "metadata": {},
   "outputs": [],
   "source": [
    "X_resampled_smote_2.to_csv('C:/Users/VOLANTE/anaconda3/envs/OC/P7/X_stats_resampled_data.csv')"
   ]
  },
  {
   "cell_type": "code",
   "execution_count": 105,
   "metadata": {},
   "outputs": [],
   "source": [
    "X_resampled_stats = X_resampled_smote_2.describe()"
   ]
  },
  {
   "cell_type": "code",
   "execution_count": 106,
   "metadata": {},
   "outputs": [
    {
     "data": {
      "text/html": [
       "<div>\n",
       "<style scoped>\n",
       "    .dataframe tbody tr th:only-of-type {\n",
       "        vertical-align: middle;\n",
       "    }\n",
       "\n",
       "    .dataframe tbody tr th {\n",
       "        vertical-align: top;\n",
       "    }\n",
       "\n",
       "    .dataframe thead th {\n",
       "        text-align: right;\n",
       "    }\n",
       "</style>\n",
       "<table border=\"1\" class=\"dataframe\">\n",
       "  <thead>\n",
       "    <tr style=\"text-align: right;\">\n",
       "      <th></th>\n",
       "      <th>AMT_INCOME_TOTAL</th>\n",
       "      <th>AMT_CREDIT</th>\n",
       "      <th>AMT_ANNUITY</th>\n",
       "      <th>AMT_GOODS_PRICE</th>\n",
       "      <th>DAYS_EMPLOYED</th>\n",
       "      <th>DAYS_REGISTRATION</th>\n",
       "      <th>DAYS_ID_PUBLISH</th>\n",
       "      <th>REGION_RATING_CLIENT_W_CITY</th>\n",
       "      <th>REG_CITY_NOT_LIVE_CITY</th>\n",
       "      <th>REG_CITY_NOT_WORK_CITY</th>\n",
       "      <th>LIVE_CITY_NOT_WORK_CITY</th>\n",
       "      <th>EXT_SOURCE_2</th>\n",
       "      <th>EXT_SOURCE_3</th>\n",
       "      <th>AGE</th>\n",
       "      <th>CREDIT_INCOME_PERCENT</th>\n",
       "    </tr>\n",
       "  </thead>\n",
       "  <tbody>\n",
       "    <tr>\n",
       "      <th>count</th>\n",
       "      <td>3.698020e+05</td>\n",
       "      <td>3.698020e+05</td>\n",
       "      <td>369802.000000</td>\n",
       "      <td>3.698020e+05</td>\n",
       "      <td>369802.000000</td>\n",
       "      <td>369802.000000</td>\n",
       "      <td>369802.000000</td>\n",
       "      <td>369802.000000</td>\n",
       "      <td>369802.000000</td>\n",
       "      <td>369802.000000</td>\n",
       "      <td>369802.000000</td>\n",
       "      <td>369802.000000</td>\n",
       "      <td>369802.000000</td>\n",
       "      <td>369802.000000</td>\n",
       "      <td>369802.000000</td>\n",
       "    </tr>\n",
       "    <tr>\n",
       "      <th>mean</th>\n",
       "      <td>1.758826e+05</td>\n",
       "      <td>5.979327e+05</td>\n",
       "      <td>27407.440750</td>\n",
       "      <td>5.312288e+05</td>\n",
       "      <td>2171.502407</td>\n",
       "      <td>4430.676860</td>\n",
       "      <td>2779.063831</td>\n",
       "      <td>1.982553</td>\n",
       "      <td>0.054645</td>\n",
       "      <td>0.203490</td>\n",
       "      <td>0.146422</td>\n",
       "      <td>0.473400</td>\n",
       "      <td>0.446369</td>\n",
       "      <td>38.643463</td>\n",
       "      <td>3.805226</td>\n",
       "    </tr>\n",
       "    <tr>\n",
       "      <th>std</th>\n",
       "      <td>4.219522e+05</td>\n",
       "      <td>3.831574e+05</td>\n",
       "      <td>13339.536025</td>\n",
       "      <td>3.491505e+05</td>\n",
       "      <td>2062.393243</td>\n",
       "      <td>2993.020388</td>\n",
       "      <td>1397.394563</td>\n",
       "      <td>0.453462</td>\n",
       "      <td>0.227287</td>\n",
       "      <td>0.402594</td>\n",
       "      <td>0.353529</td>\n",
       "      <td>0.189253</td>\n",
       "      <td>0.193134</td>\n",
       "      <td>9.372867</td>\n",
       "      <td>2.468854</td>\n",
       "    </tr>\n",
       "    <tr>\n",
       "      <th>min</th>\n",
       "      <td>2.655000e+04</td>\n",
       "      <td>4.500000e+04</td>\n",
       "      <td>1980.000000</td>\n",
       "      <td>4.050000e+04</td>\n",
       "      <td>0.000000</td>\n",
       "      <td>0.000000</td>\n",
       "      <td>0.000000</td>\n",
       "      <td>1.000000</td>\n",
       "      <td>0.000000</td>\n",
       "      <td>0.000000</td>\n",
       "      <td>0.000000</td>\n",
       "      <td>0.000001</td>\n",
       "      <td>0.000527</td>\n",
       "      <td>22.500000</td>\n",
       "      <td>0.004808</td>\n",
       "    </tr>\n",
       "    <tr>\n",
       "      <th>25%</th>\n",
       "      <td>1.125000e+05</td>\n",
       "      <td>2.867040e+05</td>\n",
       "      <td>17707.407377</td>\n",
       "      <td>2.475000e+05</td>\n",
       "      <td>800.000000</td>\n",
       "      <td>1950.000000</td>\n",
       "      <td>1627.000000</td>\n",
       "      <td>2.000000</td>\n",
       "      <td>0.000000</td>\n",
       "      <td>0.000000</td>\n",
       "      <td>0.000000</td>\n",
       "      <td>0.335599</td>\n",
       "      <td>0.296009</td>\n",
       "      <td>32.500000</td>\n",
       "      <td>2.011574</td>\n",
       "    </tr>\n",
       "    <tr>\n",
       "      <th>50%</th>\n",
       "      <td>1.575000e+05</td>\n",
       "      <td>5.212800e+05</td>\n",
       "      <td>25948.749775</td>\n",
       "      <td>4.500000e+05</td>\n",
       "      <td>1540.000000</td>\n",
       "      <td>4076.710201</td>\n",
       "      <td>2830.000000</td>\n",
       "      <td>2.000000</td>\n",
       "      <td>0.000000</td>\n",
       "      <td>0.000000</td>\n",
       "      <td>0.000000</td>\n",
       "      <td>0.508048</td>\n",
       "      <td>0.446874</td>\n",
       "      <td>37.500000</td>\n",
       "      <td>3.181818</td>\n",
       "    </tr>\n",
       "    <tr>\n",
       "      <th>75%</th>\n",
       "      <td>2.028087e+05</td>\n",
       "      <td>8.086500e+05</td>\n",
       "      <td>34596.000000</td>\n",
       "      <td>6.750000e+05</td>\n",
       "      <td>2831.000000</td>\n",
       "      <td>6429.900644</td>\n",
       "      <td>4028.000000</td>\n",
       "      <td>2.000000</td>\n",
       "      <td>0.000000</td>\n",
       "      <td>0.000000</td>\n",
       "      <td>0.000000</td>\n",
       "      <td>0.626860</td>\n",
       "      <td>0.598926</td>\n",
       "      <td>47.500000</td>\n",
       "      <td>5.000000</td>\n",
       "    </tr>\n",
       "    <tr>\n",
       "      <th>max</th>\n",
       "      <td>1.170000e+08</td>\n",
       "      <td>4.050000e+06</td>\n",
       "      <td>258025.500000</td>\n",
       "      <td>4.050000e+06</td>\n",
       "      <td>17912.000000</td>\n",
       "      <td>22928.000000</td>\n",
       "      <td>7197.000000</td>\n",
       "      <td>3.000000</td>\n",
       "      <td>1.000000</td>\n",
       "      <td>1.000000</td>\n",
       "      <td>1.000000</td>\n",
       "      <td>0.855000</td>\n",
       "      <td>0.893976</td>\n",
       "      <td>67.500000</td>\n",
       "      <td>33.333333</td>\n",
       "    </tr>\n",
       "  </tbody>\n",
       "</table>\n",
       "</div>"
      ],
      "text/plain": [
       "       AMT_INCOME_TOTAL    AMT_CREDIT    AMT_ANNUITY  AMT_GOODS_PRICE  \\\n",
       "count      3.698020e+05  3.698020e+05  369802.000000     3.698020e+05   \n",
       "mean       1.758826e+05  5.979327e+05   27407.440750     5.312288e+05   \n",
       "std        4.219522e+05  3.831574e+05   13339.536025     3.491505e+05   \n",
       "min        2.655000e+04  4.500000e+04    1980.000000     4.050000e+04   \n",
       "25%        1.125000e+05  2.867040e+05   17707.407377     2.475000e+05   \n",
       "50%        1.575000e+05  5.212800e+05   25948.749775     4.500000e+05   \n",
       "75%        2.028087e+05  8.086500e+05   34596.000000     6.750000e+05   \n",
       "max        1.170000e+08  4.050000e+06  258025.500000     4.050000e+06   \n",
       "\n",
       "       DAYS_EMPLOYED  DAYS_REGISTRATION  DAYS_ID_PUBLISH  \\\n",
       "count  369802.000000      369802.000000    369802.000000   \n",
       "mean     2171.502407        4430.676860      2779.063831   \n",
       "std      2062.393243        2993.020388      1397.394563   \n",
       "min         0.000000           0.000000         0.000000   \n",
       "25%       800.000000        1950.000000      1627.000000   \n",
       "50%      1540.000000        4076.710201      2830.000000   \n",
       "75%      2831.000000        6429.900644      4028.000000   \n",
       "max     17912.000000       22928.000000      7197.000000   \n",
       "\n",
       "       REGION_RATING_CLIENT_W_CITY  REG_CITY_NOT_LIVE_CITY  \\\n",
       "count                369802.000000           369802.000000   \n",
       "mean                      1.982553                0.054645   \n",
       "std                       0.453462                0.227287   \n",
       "min                       1.000000                0.000000   \n",
       "25%                       2.000000                0.000000   \n",
       "50%                       2.000000                0.000000   \n",
       "75%                       2.000000                0.000000   \n",
       "max                       3.000000                1.000000   \n",
       "\n",
       "       REG_CITY_NOT_WORK_CITY  LIVE_CITY_NOT_WORK_CITY   EXT_SOURCE_2  \\\n",
       "count           369802.000000            369802.000000  369802.000000   \n",
       "mean                 0.203490                 0.146422       0.473400   \n",
       "std                  0.402594                 0.353529       0.189253   \n",
       "min                  0.000000                 0.000000       0.000001   \n",
       "25%                  0.000000                 0.000000       0.335599   \n",
       "50%                  0.000000                 0.000000       0.508048   \n",
       "75%                  0.000000                 0.000000       0.626860   \n",
       "max                  1.000000                 1.000000       0.855000   \n",
       "\n",
       "        EXT_SOURCE_3            AGE  CREDIT_INCOME_PERCENT  \n",
       "count  369802.000000  369802.000000          369802.000000  \n",
       "mean        0.446369      38.643463               3.805226  \n",
       "std         0.193134       9.372867               2.468854  \n",
       "min         0.000527      22.500000               0.004808  \n",
       "25%         0.296009      32.500000               2.011574  \n",
       "50%         0.446874      37.500000               3.181818  \n",
       "75%         0.598926      47.500000               5.000000  \n",
       "max         0.893976      67.500000              33.333333  "
      ]
     },
     "execution_count": 106,
     "metadata": {},
     "output_type": "execute_result"
    }
   ],
   "source": [
    "X_resampled_stats"
   ]
  },
  {
   "cell_type": "code",
   "execution_count": 107,
   "metadata": {},
   "outputs": [],
   "source": [
    "X_resampled_stats.to_csv('C:/Users/VOLANTE/anaconda3/envs/OC/P7/X_stats_resampled.csv')"
   ]
  },
  {
   "cell_type": "code",
   "execution_count": 22,
   "metadata": {},
   "outputs": [
    {
     "name": "stdout",
     "output_type": "stream",
     "text": [
      "Class=0, n=184901, (50.0)%)\n",
      "Class=1, n=184901, (50.0)%)\n"
     ]
    }
   ],
   "source": [
    "# Getting proportions\n",
    "counter = Counter(y_resampled_smote)\n",
    "for k, v in counter.items():\n",
    "    dist = v / len(y_resampled_smote) * 100\n",
    "    print(f\"Class={k}, n={v}, ({dist})%)\")"
   ]
  },
  {
   "cell_type": "markdown",
   "metadata": {},
   "source": [
    "### b) Adasyn"
   ]
  },
  {
   "cell_type": "code",
   "execution_count": 23,
   "metadata": {},
   "outputs": [],
   "source": [
    "# Adasyn\n",
    "X_resampled_ad, y_resampled_ad = ADASYN().fit_resample(X, y)"
   ]
  },
  {
   "cell_type": "code",
   "execution_count": 24,
   "metadata": {},
   "outputs": [
    {
     "name": "stdout",
     "output_type": "stream",
     "text": [
      "Class=0, n=184901, (50.284736802027695)%)\n",
      "Class=1, n=182807, (49.715263197972305)%)\n"
     ]
    }
   ],
   "source": [
    "# Getting proportions\n",
    "counter = Counter(y_resampled_ad)\n",
    "for k, v in counter.items():\n",
    "    dist = v / len(y_resampled_ad) * 100\n",
    "    print(f\"Class={k}, n={v}, ({dist})%)\")"
   ]
  },
  {
   "cell_type": "markdown",
   "metadata": {},
   "source": [
    "Here above we can see how both smote and adasyn resample and balance our dataframe.\n",
    "But will we have better results?"
   ]
  },
  {
   "cell_type": "markdown",
   "metadata": {},
   "source": [
    "###############################################################################################################################"
   ]
  },
  {
   "cell_type": "markdown",
   "metadata": {},
   "source": [
    "# Preprocessing "
   ]
  },
  {
   "cell_type": "markdown",
   "metadata": {},
   "source": [
    "##  1) MinMaxScaler"
   ]
  },
  {
   "cell_type": "markdown",
   "metadata": {},
   "source": [
    "Here, as we have very high differences between consumers for many features, MinMaxScaler seems to be really appropriate.\n",
    "We scale for our 3 datasets"
   ]
  },
  {
   "cell_type": "code",
   "execution_count": 25,
   "metadata": {},
   "outputs": [],
   "source": [
    "from sklearn.preprocessing import MinMaxScaler\n",
    "\n",
    "#Giving 0 for min and 1 for max.. for the rest the proportion\n",
    "scaler = MinMaxScaler()"
   ]
  },
  {
   "cell_type": "code",
   "execution_count": 26,
   "metadata": {},
   "outputs": [],
   "source": [
    "''' Scaling X excepted  categorical features '''\n",
    "\n",
    "for col in X.drop(['AGE','REGION_RATING_CLIENT_W_CITY', 'REG_CITY_NOT_LIVE_CITY', \n",
    "                        'REG_CITY_NOT_WORK_CITY', 'LIVE_CITY_NOT_WORK_CITY'], axis = 1).columns :\n",
    "    X.loc[:, col] = scaler.fit_transform(X[col].values.reshape(-1,1))"
   ]
  },
  {
   "cell_type": "code",
   "execution_count": 27,
   "metadata": {},
   "outputs": [],
   "source": [
    "''' Scaling X_resampled_smote excepted  categorical features '''\n",
    "\n",
    "for col in X_resampled_smote.drop(['AGE','REGION_RATING_CLIENT_W_CITY', 'REG_CITY_NOT_LIVE_CITY', \n",
    "                        'REG_CITY_NOT_WORK_CITY', 'LIVE_CITY_NOT_WORK_CITY'], axis = 1).columns :\n",
    "    X_resampled_smote.loc[:, col] = scaler.fit_transform(X_resampled_smote[col].values.reshape(-1,1))"
   ]
  },
  {
   "cell_type": "code",
   "execution_count": 28,
   "metadata": {},
   "outputs": [],
   "source": [
    "'''Scaling X_resampled_ad excepted  categorical features'''\n",
    "\n",
    "for col in X_resampled_ad.drop(['AGE','REGION_RATING_CLIENT_W_CITY', 'REG_CITY_NOT_LIVE_CITY', \n",
    "                        'REG_CITY_NOT_WORK_CITY', 'LIVE_CITY_NOT_WORK_CITY'], axis = 1).columns :\n",
    "    X_resampled_ad.loc[:, col] = scaler.fit_transform(X_resampled_ad[col].values.reshape(-1,1))"
   ]
  },
  {
   "cell_type": "markdown",
   "metadata": {},
   "source": [
    "##  2) OneHotEncoder"
   ]
  },
  {
   "cell_type": "markdown",
   "metadata": {},
   "source": [
    "In this part we encode 4 features:\n",
    "- 'REGION_RATING_CLIENT_W_CITY'\n",
    "- 'REG_CITY_NOT_LIVE_CITY'\n",
    "- 'REG_CITY_NOT_WORK_CITY'\n",
    "- 'LIVE_CITY_NOT_WORK_CITY'"
   ]
  },
  {
   "cell_type": "code",
   "execution_count": 29,
   "metadata": {},
   "outputs": [
    {
     "name": "stdout",
     "output_type": "stream",
     "text": [
      "2    150988\n",
      "3     27897\n",
      "1     22834\n",
      "Name: REGION_RATING_CLIENT_W_CITY, dtype: int64\n",
      "0    184467\n",
      "1     17252\n",
      "Name: REG_CITY_NOT_LIVE_CITY, dtype: int64\n",
      "0    146368\n",
      "1     55351\n",
      "Name: REG_CITY_NOT_WORK_CITY, dtype: int64\n",
      "0    158223\n",
      "1     43496\n",
      "Name: LIVE_CITY_NOT_WORK_CITY, dtype: int64\n"
     ]
    }
   ],
   "source": [
    "print(X.REGION_RATING_CLIENT_W_CITY.value_counts())\n",
    "print(X.REG_CITY_NOT_LIVE_CITY.value_counts())\n",
    "print(X.REG_CITY_NOT_WORK_CITY.value_counts())\n",
    "print(X.LIVE_CITY_NOT_WORK_CITY.value_counts())"
   ]
  },
  {
   "cell_type": "code",
   "execution_count": 30,
   "metadata": {},
   "outputs": [],
   "source": [
    "# OneHotEncoding with get_dummies X columns\n",
    "data_dummies_X = pd.get_dummies(X, columns = ['REGION_RATING_CLIENT_W_CITY','REG_CITY_NOT_LIVE_CITY', 'REG_CITY_NOT_WORK_CITY',  'LIVE_CITY_NOT_WORK_CITY'])                                   "
   ]
  },
  {
   "cell_type": "code",
   "execution_count": 31,
   "metadata": {},
   "outputs": [
    {
     "data": {
      "text/html": [
       "<div>\n",
       "<style scoped>\n",
       "    .dataframe tbody tr th:only-of-type {\n",
       "        vertical-align: middle;\n",
       "    }\n",
       "\n",
       "    .dataframe tbody tr th {\n",
       "        vertical-align: top;\n",
       "    }\n",
       "\n",
       "    .dataframe thead th {\n",
       "        text-align: right;\n",
       "    }\n",
       "</style>\n",
       "<table border=\"1\" class=\"dataframe\">\n",
       "  <thead>\n",
       "    <tr style=\"text-align: right;\">\n",
       "      <th></th>\n",
       "      <th>AMT_INCOME_TOTAL</th>\n",
       "      <th>AMT_CREDIT</th>\n",
       "      <th>AMT_ANNUITY</th>\n",
       "      <th>AMT_GOODS_PRICE</th>\n",
       "      <th>DAYS_EMPLOYED</th>\n",
       "      <th>DAYS_REGISTRATION</th>\n",
       "      <th>DAYS_ID_PUBLISH</th>\n",
       "      <th>EXT_SOURCE_2</th>\n",
       "      <th>EXT_SOURCE_3</th>\n",
       "      <th>AGE</th>\n",
       "      <th>CREDIT_INCOME_PERCENT</th>\n",
       "      <th>REGION_RATING_CLIENT_W_CITY_1</th>\n",
       "      <th>REGION_RATING_CLIENT_W_CITY_2</th>\n",
       "      <th>REGION_RATING_CLIENT_W_CITY_3</th>\n",
       "      <th>REG_CITY_NOT_LIVE_CITY_0</th>\n",
       "      <th>REG_CITY_NOT_LIVE_CITY_1</th>\n",
       "      <th>REG_CITY_NOT_WORK_CITY_0</th>\n",
       "      <th>REG_CITY_NOT_WORK_CITY_1</th>\n",
       "      <th>LIVE_CITY_NOT_WORK_CITY_0</th>\n",
       "      <th>LIVE_CITY_NOT_WORK_CITY_1</th>\n",
       "    </tr>\n",
       "  </thead>\n",
       "  <tbody>\n",
       "    <tr>\n",
       "      <th>0</th>\n",
       "      <td>0.000350</td>\n",
       "      <td>0.022472</td>\n",
       "      <td>0.018630</td>\n",
       "      <td>0.023569</td>\n",
       "      <td>0.012561</td>\n",
       "      <td>0.185799</td>\n",
       "      <td>0.351674</td>\n",
       "      <td>0.650189</td>\n",
       "      <td>0.815983</td>\n",
       "      <td>6</td>\n",
       "      <td>0.059864</td>\n",
       "      <td>0</td>\n",
       "      <td>1</td>\n",
       "      <td>0</td>\n",
       "      <td>1</td>\n",
       "      <td>0</td>\n",
       "      <td>1</td>\n",
       "      <td>0</td>\n",
       "      <td>1</td>\n",
       "      <td>0</td>\n",
       "    </tr>\n",
       "    <tr>\n",
       "      <th>1</th>\n",
       "      <td>0.000619</td>\n",
       "      <td>0.111235</td>\n",
       "      <td>0.099738</td>\n",
       "      <td>0.103255</td>\n",
       "      <td>0.088656</td>\n",
       "      <td>0.216766</td>\n",
       "      <td>0.066278</td>\n",
       "      <td>0.414297</td>\n",
       "      <td>0.694723</td>\n",
       "      <td>5</td>\n",
       "      <td>0.148512</td>\n",
       "      <td>0</td>\n",
       "      <td>1</td>\n",
       "      <td>0</td>\n",
       "      <td>1</td>\n",
       "      <td>0</td>\n",
       "      <td>1</td>\n",
       "      <td>0</td>\n",
       "      <td>1</td>\n",
       "      <td>0</td>\n",
       "    </tr>\n",
       "    <tr>\n",
       "      <th>2</th>\n",
       "      <td>0.001235</td>\n",
       "      <td>0.378458</td>\n",
       "      <td>0.153570</td>\n",
       "      <td>0.337823</td>\n",
       "      <td>0.174743</td>\n",
       "      <td>0.052905</td>\n",
       "      <td>0.086008</td>\n",
       "      <td>0.846784</td>\n",
       "      <td>0.550152</td>\n",
       "      <td>3</td>\n",
       "      <td>0.273707</td>\n",
       "      <td>0</td>\n",
       "      <td>1</td>\n",
       "      <td>0</td>\n",
       "      <td>1</td>\n",
       "      <td>0</td>\n",
       "      <td>1</td>\n",
       "      <td>0</td>\n",
       "      <td>1</td>\n",
       "      <td>0</td>\n",
       "    </tr>\n",
       "    <tr>\n",
       "      <th>3</th>\n",
       "      <td>0.002851</td>\n",
       "      <td>0.370787</td>\n",
       "      <td>0.156593</td>\n",
       "      <td>0.371493</td>\n",
       "      <td>0.025067</td>\n",
       "      <td>0.200497</td>\n",
       "      <td>0.330554</td>\n",
       "      <td>0.835414</td>\n",
       "      <td>0.604542</td>\n",
       "      <td>6</td>\n",
       "      <td>0.127374</td>\n",
       "      <td>0</td>\n",
       "      <td>0</td>\n",
       "      <td>1</td>\n",
       "      <td>1</td>\n",
       "      <td>0</td>\n",
       "      <td>0</td>\n",
       "      <td>1</td>\n",
       "      <td>0</td>\n",
       "      <td>1</td>\n",
       "    </tr>\n",
       "    <tr>\n",
       "      <th>4</th>\n",
       "      <td>0.000735</td>\n",
       "      <td>0.151685</td>\n",
       "      <td>0.074975</td>\n",
       "      <td>0.152637</td>\n",
       "      <td>0.037908</td>\n",
       "      <td>0.193083</td>\n",
       "      <td>0.102543</td>\n",
       "      <td>0.762412</td>\n",
       "      <td>0.406759</td>\n",
       "      <td>1</td>\n",
       "      <td>0.173881</td>\n",
       "      <td>0</td>\n",
       "      <td>1</td>\n",
       "      <td>0</td>\n",
       "      <td>1</td>\n",
       "      <td>0</td>\n",
       "      <td>1</td>\n",
       "      <td>0</td>\n",
       "      <td>1</td>\n",
       "      <td>0</td>\n",
       "    </tr>\n",
       "  </tbody>\n",
       "</table>\n",
       "</div>"
      ],
      "text/plain": [
       "   AMT_INCOME_TOTAL  AMT_CREDIT  AMT_ANNUITY  AMT_GOODS_PRICE  DAYS_EMPLOYED  \\\n",
       "0          0.000350    0.022472     0.018630         0.023569       0.012561   \n",
       "1          0.000619    0.111235     0.099738         0.103255       0.088656   \n",
       "2          0.001235    0.378458     0.153570         0.337823       0.174743   \n",
       "3          0.002851    0.370787     0.156593         0.371493       0.025067   \n",
       "4          0.000735    0.151685     0.074975         0.152637       0.037908   \n",
       "\n",
       "   DAYS_REGISTRATION  DAYS_ID_PUBLISH  EXT_SOURCE_2  EXT_SOURCE_3  AGE  \\\n",
       "0           0.185799         0.351674      0.650189      0.815983    6   \n",
       "1           0.216766         0.066278      0.414297      0.694723    5   \n",
       "2           0.052905         0.086008      0.846784      0.550152    3   \n",
       "3           0.200497         0.330554      0.835414      0.604542    6   \n",
       "4           0.193083         0.102543      0.762412      0.406759    1   \n",
       "\n",
       "   CREDIT_INCOME_PERCENT  REGION_RATING_CLIENT_W_CITY_1  \\\n",
       "0               0.059864                              0   \n",
       "1               0.148512                              0   \n",
       "2               0.273707                              0   \n",
       "3               0.127374                              0   \n",
       "4               0.173881                              0   \n",
       "\n",
       "   REGION_RATING_CLIENT_W_CITY_2  REGION_RATING_CLIENT_W_CITY_3  \\\n",
       "0                              1                              0   \n",
       "1                              1                              0   \n",
       "2                              1                              0   \n",
       "3                              0                              1   \n",
       "4                              1                              0   \n",
       "\n",
       "   REG_CITY_NOT_LIVE_CITY_0  REG_CITY_NOT_LIVE_CITY_1  \\\n",
       "0                         1                         0   \n",
       "1                         1                         0   \n",
       "2                         1                         0   \n",
       "3                         1                         0   \n",
       "4                         1                         0   \n",
       "\n",
       "   REG_CITY_NOT_WORK_CITY_0  REG_CITY_NOT_WORK_CITY_1  \\\n",
       "0                         1                         0   \n",
       "1                         1                         0   \n",
       "2                         1                         0   \n",
       "3                         0                         1   \n",
       "4                         1                         0   \n",
       "\n",
       "   LIVE_CITY_NOT_WORK_CITY_0  LIVE_CITY_NOT_WORK_CITY_1  \n",
       "0                          1                          0  \n",
       "1                          1                          0  \n",
       "2                          1                          0  \n",
       "3                          0                          1  \n",
       "4                          1                          0  "
      ]
     },
     "metadata": {},
     "output_type": "display_data"
    }
   ],
   "source": [
    "display(data_dummies_X.head(n=5))"
   ]
  },
  {
   "cell_type": "code",
   "execution_count": 32,
   "metadata": {},
   "outputs": [],
   "source": [
    "X = data_dummies_X"
   ]
  },
  {
   "cell_type": "code",
   "execution_count": 33,
   "metadata": {},
   "outputs": [
    {
     "data": {
      "text/html": [
       "<div>\n",
       "<style scoped>\n",
       "    .dataframe tbody tr th:only-of-type {\n",
       "        vertical-align: middle;\n",
       "    }\n",
       "\n",
       "    .dataframe tbody tr th {\n",
       "        vertical-align: top;\n",
       "    }\n",
       "\n",
       "    .dataframe thead th {\n",
       "        text-align: right;\n",
       "    }\n",
       "</style>\n",
       "<table border=\"1\" class=\"dataframe\">\n",
       "  <thead>\n",
       "    <tr style=\"text-align: right;\">\n",
       "      <th></th>\n",
       "      <th>AMT_INCOME_TOTAL</th>\n",
       "      <th>AMT_CREDIT</th>\n",
       "      <th>AMT_ANNUITY</th>\n",
       "      <th>AMT_GOODS_PRICE</th>\n",
       "      <th>DAYS_EMPLOYED</th>\n",
       "      <th>DAYS_REGISTRATION</th>\n",
       "      <th>DAYS_ID_PUBLISH</th>\n",
       "      <th>EXT_SOURCE_2</th>\n",
       "      <th>EXT_SOURCE_3</th>\n",
       "      <th>AGE</th>\n",
       "      <th>CREDIT_INCOME_PERCENT</th>\n",
       "      <th>REGION_RATING_CLIENT_W_CITY_1</th>\n",
       "      <th>REGION_RATING_CLIENT_W_CITY_2</th>\n",
       "      <th>REGION_RATING_CLIENT_W_CITY_3</th>\n",
       "      <th>REG_CITY_NOT_LIVE_CITY_0</th>\n",
       "      <th>REG_CITY_NOT_LIVE_CITY_1</th>\n",
       "      <th>REG_CITY_NOT_WORK_CITY_0</th>\n",
       "      <th>REG_CITY_NOT_WORK_CITY_1</th>\n",
       "      <th>LIVE_CITY_NOT_WORK_CITY_0</th>\n",
       "      <th>LIVE_CITY_NOT_WORK_CITY_1</th>\n",
       "    </tr>\n",
       "  </thead>\n",
       "  <tbody>\n",
       "    <tr>\n",
       "      <th>0</th>\n",
       "      <td>0.000350</td>\n",
       "      <td>0.022472</td>\n",
       "      <td>0.018630</td>\n",
       "      <td>0.023569</td>\n",
       "      <td>0.012561</td>\n",
       "      <td>0.185799</td>\n",
       "      <td>0.351674</td>\n",
       "      <td>0.650189</td>\n",
       "      <td>0.815983</td>\n",
       "      <td>6</td>\n",
       "      <td>0.059864</td>\n",
       "      <td>0</td>\n",
       "      <td>1</td>\n",
       "      <td>0</td>\n",
       "      <td>1</td>\n",
       "      <td>0</td>\n",
       "      <td>1</td>\n",
       "      <td>0</td>\n",
       "      <td>1</td>\n",
       "      <td>0</td>\n",
       "    </tr>\n",
       "    <tr>\n",
       "      <th>1</th>\n",
       "      <td>0.000619</td>\n",
       "      <td>0.111235</td>\n",
       "      <td>0.099738</td>\n",
       "      <td>0.103255</td>\n",
       "      <td>0.088656</td>\n",
       "      <td>0.216766</td>\n",
       "      <td>0.066278</td>\n",
       "      <td>0.414297</td>\n",
       "      <td>0.694723</td>\n",
       "      <td>5</td>\n",
       "      <td>0.148512</td>\n",
       "      <td>0</td>\n",
       "      <td>1</td>\n",
       "      <td>0</td>\n",
       "      <td>1</td>\n",
       "      <td>0</td>\n",
       "      <td>1</td>\n",
       "      <td>0</td>\n",
       "      <td>1</td>\n",
       "      <td>0</td>\n",
       "    </tr>\n",
       "    <tr>\n",
       "      <th>2</th>\n",
       "      <td>0.001235</td>\n",
       "      <td>0.378458</td>\n",
       "      <td>0.153570</td>\n",
       "      <td>0.337823</td>\n",
       "      <td>0.174743</td>\n",
       "      <td>0.052905</td>\n",
       "      <td>0.086008</td>\n",
       "      <td>0.846784</td>\n",
       "      <td>0.550152</td>\n",
       "      <td>3</td>\n",
       "      <td>0.273707</td>\n",
       "      <td>0</td>\n",
       "      <td>1</td>\n",
       "      <td>0</td>\n",
       "      <td>1</td>\n",
       "      <td>0</td>\n",
       "      <td>1</td>\n",
       "      <td>0</td>\n",
       "      <td>1</td>\n",
       "      <td>0</td>\n",
       "    </tr>\n",
       "  </tbody>\n",
       "</table>\n",
       "</div>"
      ],
      "text/plain": [
       "   AMT_INCOME_TOTAL  AMT_CREDIT  AMT_ANNUITY  AMT_GOODS_PRICE  DAYS_EMPLOYED  \\\n",
       "0          0.000350    0.022472     0.018630         0.023569       0.012561   \n",
       "1          0.000619    0.111235     0.099738         0.103255       0.088656   \n",
       "2          0.001235    0.378458     0.153570         0.337823       0.174743   \n",
       "\n",
       "   DAYS_REGISTRATION  DAYS_ID_PUBLISH  EXT_SOURCE_2  EXT_SOURCE_3  AGE  \\\n",
       "0           0.185799         0.351674      0.650189      0.815983    6   \n",
       "1           0.216766         0.066278      0.414297      0.694723    5   \n",
       "2           0.052905         0.086008      0.846784      0.550152    3   \n",
       "\n",
       "   CREDIT_INCOME_PERCENT  REGION_RATING_CLIENT_W_CITY_1  \\\n",
       "0               0.059864                              0   \n",
       "1               0.148512                              0   \n",
       "2               0.273707                              0   \n",
       "\n",
       "   REGION_RATING_CLIENT_W_CITY_2  REGION_RATING_CLIENT_W_CITY_3  \\\n",
       "0                              1                              0   \n",
       "1                              1                              0   \n",
       "2                              1                              0   \n",
       "\n",
       "   REG_CITY_NOT_LIVE_CITY_0  REG_CITY_NOT_LIVE_CITY_1  \\\n",
       "0                         1                         0   \n",
       "1                         1                         0   \n",
       "2                         1                         0   \n",
       "\n",
       "   REG_CITY_NOT_WORK_CITY_0  REG_CITY_NOT_WORK_CITY_1  \\\n",
       "0                         1                         0   \n",
       "1                         1                         0   \n",
       "2                         1                         0   \n",
       "\n",
       "   LIVE_CITY_NOT_WORK_CITY_0  LIVE_CITY_NOT_WORK_CITY_1  \n",
       "0                          1                          0  \n",
       "1                          1                          0  \n",
       "2                          1                          0  "
      ]
     },
     "execution_count": 33,
     "metadata": {},
     "output_type": "execute_result"
    }
   ],
   "source": [
    "X.head(3)"
   ]
  },
  {
   "cell_type": "code",
   "execution_count": 34,
   "metadata": {},
   "outputs": [],
   "source": [
    "# OneHotEncoding with get_dummies X_resampled_smote columns\n",
    "data_dummies_X_resampled_smote = pd.get_dummies(X_resampled_smote, columns = ['REGION_RATING_CLIENT_W_CITY','REG_CITY_NOT_LIVE_CITY', 'REG_CITY_NOT_WORK_CITY',  'LIVE_CITY_NOT_WORK_CITY'])                                   "
   ]
  },
  {
   "cell_type": "code",
   "execution_count": 35,
   "metadata": {},
   "outputs": [],
   "source": [
    "X_resampled_smote = data_dummies_X_resampled_smote"
   ]
  },
  {
   "cell_type": "code",
   "execution_count": 36,
   "metadata": {},
   "outputs": [],
   "source": [
    "# OneHotEncoding with get_dummies X_resampled_ad columns\n",
    "data_dummies_X_resampled_ad = pd.get_dummies(X_resampled_ad, columns = ['REGION_RATING_CLIENT_W_CITY','REG_CITY_NOT_LIVE_CITY', 'REG_CITY_NOT_WORK_CITY',  'LIVE_CITY_NOT_WORK_CITY'])                                   "
   ]
  },
  {
   "cell_type": "code",
   "execution_count": 37,
   "metadata": {},
   "outputs": [],
   "source": [
    "X_resampled_ad = data_dummies_X_resampled_ad "
   ]
  },
  {
   "cell_type": "code",
   "execution_count": 38,
   "metadata": {},
   "outputs": [],
   "source": [
    "# Splitting data \n",
    "from sklearn.model_selection import StratifiedKFold, cross_val_score\n",
    "SkFold = StratifiedKFold(n_splits=10, random_state = 42, shuffle = True)"
   ]
  },
  {
   "cell_type": "markdown",
   "metadata": {},
   "source": [
    "## Using 3 different models for our 3 different dataset"
   ]
  },
  {
   "cell_type": "markdown",
   "metadata": {},
   "source": [
    "In this part we use 2 different classification models (without tuning):\n",
    "\n",
    "- DecisionTreeClassifier \n",
    "- LogisticRegression\n",
    "- KNeighborsClassifier\n",
    "\n",
    "Comparing f1_score is relevant for us... because it's a good basic metric"
   ]
  },
  {
   "cell_type": "code",
   "execution_count": 39,
   "metadata": {},
   "outputs": [],
   "source": [
    "# Creating an empty df to fill in future results\n",
    "result1 = pd.DataFrame(columns=['DecisionTreeClassifier', 'LogisticRegression', 'XGBoostClassifier' ], \n",
    "                       index = ['Classic Dataset','Resampled_SMOTE Dataset', 'Resampled_ADASYN Dataset'])"
   ]
  },
  {
   "cell_type": "markdown",
   "metadata": {},
   "source": [
    "### 1) Using X,y"
   ]
  },
  {
   "cell_type": "code",
   "execution_count": 40,
   "metadata": {},
   "outputs": [
    {
     "name": "stdout",
     "output_type": "stream",
     "text": [
      "Decision TreeClassifier Scores:\n",
      "DecisionTreeClassifier Scores [0.15267176 0.15734757 0.1480226  0.15112632 0.14408233 0.17469205\n",
      " 0.15995462 0.15162455 0.17183908 0.16229924]\n",
      "mean : 0.15736601161825275\n",
      "\n",
      "\n",
      "Logistic Regression scores:\n",
      "DecisionTreeClassifier Scores [0.0035461  0.00827423 0.00589623 0.00236967 0.0141426  0.0070922\n",
      " 0.01294879 0.01060695 0.00355661 0.00473934]\n",
      "mean : 0.0073172721522489605\n",
      "\n",
      "\n",
      "XGBoostClassifier:\n",
      "XGBoostClassifier [0.04421769 0.04952167 0.04593838 0.03966006 0.06285073 0.03737259\n",
      " 0.05518018 0.04404291 0.03883495 0.04980192]\n",
      "mean : 0.04674210771697035\n"
     ]
    }
   ],
   "source": [
    "from sklearn.tree import DecisionTreeClassifier\n",
    "from sklearn.linear_model import LogisticRegression\n",
    "import xgboost \n",
    "\n",
    "# Model\n",
    "DT = DecisionTreeClassifier(criterion='entropy',random_state = 1)\n",
    "LR = LogisticRegression(random_state = 1, max_iter = 1000)\n",
    "XGB = xgboost.XGBClassifier(use_label_encoder=False, eval_metric='error')\n",
    "\n",
    "print('Decision TreeClassifier Scores:')\n",
    "score1 = cross_val_score(estimator = DT, X=X, y=y, scoring='f1',cv=SkFold)\n",
    "print('DecisionTreeClassifier Scores',score1)\n",
    "print('mean : {}'.format(np.mean(score1)))\n",
    "\n",
    "print('\\n')\n",
    "\n",
    "print('Logistic Regression scores:')\n",
    "score2 = cross_val_score(estimator = LR, X=X, y=y, scoring='f1',cv=SkFold)\n",
    "print('DecisionTreeClassifier Scores',score2)\n",
    "print('mean : {}'.format(np.mean(score2)))\n",
    "\n",
    "print('\\n')\n",
    "\n",
    "print('XGBoostClassifier:')\n",
    "score3 = cross_val_score(estimator = XGB, X=X, y=y, scoring='f1',cv=SkFold)\n",
    "print('XGBoostClassifier',score3)\n",
    "print('mean : {}'.format(np.mean(score3)))"
   ]
  },
  {
   "cell_type": "code",
   "execution_count": 41,
   "metadata": {},
   "outputs": [],
   "source": [
    "# Filling\n",
    "result1.iloc[0, 0] = round(np.mean(score1), 2)\n",
    "result1.iloc[0, 1] = round(np.mean(score2), 2)\n",
    "result1.iloc[0, 2] = round(np.mean(score3), 2)"
   ]
  },
  {
   "cell_type": "markdown",
   "metadata": {},
   "source": [
    "### 2) Using X_resampled_smote, y_resampled_smote"
   ]
  },
  {
   "cell_type": "code",
   "execution_count": 42,
   "metadata": {},
   "outputs": [
    {
     "name": "stdout",
     "output_type": "stream",
     "text": [
      "Decision TreeClassifier Scores:\n",
      "DecisionTreeClassifier Scores [0.78728012 0.79037964 0.79444239 0.78834574 0.79147905 0.78929943\n",
      " 0.78745608 0.7901228  0.7897985  0.78939726]\n",
      "mean : 0.7898001014813248\n",
      "\n",
      "\n",
      "Logistic Regression scores:\n",
      "DecisionTreeClassifier Scores [0.73440563 0.74048517 0.73721785 0.73901451 0.7363775  0.73948367\n",
      " 0.73534217 0.7361368  0.73370207 0.73911065]\n",
      "mean : 0.7371276013148454\n",
      "\n",
      "\n",
      "XGBoostClassifier scores:\n",
      "XGBoostClassifier [0.84459133 0.83995167 0.84262595 0.84426801 0.84089385 0.84121875\n",
      " 0.84509392 0.83933756 0.84311988 0.84342537]\n",
      "mean : 0.8424526300275097\n"
     ]
    }
   ],
   "source": [
    "# model\n",
    "DT = DecisionTreeClassifier(criterion='entropy',random_state = 1)\n",
    "LR = LogisticRegression(random_state = 1, max_iter = 1000)\n",
    "XGB = xgboost.XGBClassifier(use_label_encoder=False, eval_metric='error')\n",
    "\n",
    "\n",
    "print('Decision TreeClassifier Scores:')\n",
    "score1 = cross_val_score(estimator = DT, X=X_resampled_smote, y=y_resampled_smote, scoring='f1',cv=SkFold)\n",
    "print('DecisionTreeClassifier Scores',score1)\n",
    "print('mean : {}'.format(np.mean(score1)))\n",
    "\n",
    "print('\\n')\n",
    "\n",
    "print('Logistic Regression scores:')\n",
    "score2 = cross_val_score(estimator = LR, X=X_resampled_smote, y=y_resampled_smote, scoring='f1',cv=SkFold)\n",
    "print('DecisionTreeClassifier Scores',score2)\n",
    "print('mean : {}'.format(np.mean(score2)))\n",
    "\n",
    "print('\\n')\n",
    "\n",
    "print('XGBoostClassifier scores:')\n",
    "score3 = cross_val_score(estimator = XGB, X=X_resampled_smote, y=y_resampled_smote, scoring='f1',cv=SkFold)\n",
    "print('XGBoostClassifier',score3)\n",
    "print('mean : {}'.format(np.mean(score3)))"
   ]
  },
  {
   "cell_type": "code",
   "execution_count": 43,
   "metadata": {},
   "outputs": [],
   "source": [
    "# Filling\n",
    "result1.iloc[1, 0] = round(np.mean(score1), 2)\n",
    "result1.iloc[1, 1] = round(np.mean(score2), 2)\n",
    "result1.iloc[1, 2] = round(np.mean(score3), 2)"
   ]
  },
  {
   "cell_type": "markdown",
   "metadata": {},
   "source": [
    "### 3) Using X_resampled_ad, y_resampled_ad"
   ]
  },
  {
   "cell_type": "code",
   "execution_count": 44,
   "metadata": {},
   "outputs": [
    {
     "name": "stdout",
     "output_type": "stream",
     "text": [
      "Decision TreeClassifier Scores:\n",
      "Decision TreeClassifier Scores [0.78589205 0.78311002 0.79304432 0.78778487 0.78476954 0.78566289\n",
      " 0.78784146 0.78384174 0.78521005 0.78414073]\n",
      "mean : 0.7861297669497492\n",
      "\n",
      "\n",
      "Logistic Regression scores:\n",
      "Logistic Regression scores [0.73195764 0.73037654 0.73391503 0.73292228 0.73317627 0.73277639\n",
      " 0.73418133 0.73130555 0.73088003 0.73383638]\n",
      "mean : 0.7325327446706723\n",
      "\n",
      "\n",
      "XGBoostClassifier scores:\n",
      "XGBoostClassifier scores [0.84031371 0.83685545 0.84097285 0.84343572 0.83750408 0.84026853\n",
      " 0.84178731 0.8361118  0.84167484 0.84031822]\n",
      "mean : 0.8399242496257182\n"
     ]
    }
   ],
   "source": [
    "# model\n",
    "DT = DecisionTreeClassifier(criterion='entropy',random_state = 1)\n",
    "LR = LogisticRegression(random_state = 1, max_iter =1000)\n",
    "XGB = xgboost.XGBClassifier(use_label_encoder=False, eval_metric='error')\n",
    "\n",
    "print('Decision TreeClassifier Scores:')\n",
    "score1 = cross_val_score(estimator = DT, X=X_resampled_ad, y=y_resampled_ad, scoring='f1',cv=SkFold)\n",
    "print('Decision TreeClassifier Scores',score1)\n",
    "print('mean : {}'.format(np.mean(score1)))\n",
    "\n",
    "print('\\n')\n",
    "\n",
    "print('Logistic Regression scores:')\n",
    "score2 = cross_val_score(estimator = LR, X=X_resampled_ad, y=y_resampled_ad, scoring='f1',cv=SkFold)\n",
    "print('Logistic Regression scores',score2)\n",
    "print('mean : {}'.format(np.mean(score2)))\n",
    "\n",
    "print('\\n')\n",
    "\n",
    "print('XGBoostClassifier scores:')\n",
    "score3 = cross_val_score(estimator = XGB, X=X_resampled_ad, y=y_resampled_ad, scoring='f1',cv=SkFold)\n",
    "print('XGBoostClassifier scores',score3)\n",
    "print('mean : {}'.format(np.mean(score3)))"
   ]
  },
  {
   "cell_type": "code",
   "execution_count": 45,
   "metadata": {},
   "outputs": [],
   "source": [
    "# Filling\n",
    "result1.iloc[2, 0] = round(np.mean(score1), 2)\n",
    "result1.iloc[2, 1] = round(np.mean(score2), 2)\n",
    "result1.iloc[2, 2] = round(np.mean(score3), 2)"
   ]
  },
  {
   "cell_type": "code",
   "execution_count": 46,
   "metadata": {},
   "outputs": [
    {
     "data": {
      "text/html": [
       "<div>\n",
       "<style scoped>\n",
       "    .dataframe tbody tr th:only-of-type {\n",
       "        vertical-align: middle;\n",
       "    }\n",
       "\n",
       "    .dataframe tbody tr th {\n",
       "        vertical-align: top;\n",
       "    }\n",
       "\n",
       "    .dataframe thead th {\n",
       "        text-align: right;\n",
       "    }\n",
       "</style>\n",
       "<table border=\"1\" class=\"dataframe\">\n",
       "  <thead>\n",
       "    <tr style=\"text-align: right;\">\n",
       "      <th></th>\n",
       "      <th>DecisionTreeClassifier</th>\n",
       "      <th>LogisticRegression</th>\n",
       "      <th>XGBoostClassifier</th>\n",
       "    </tr>\n",
       "  </thead>\n",
       "  <tbody>\n",
       "    <tr>\n",
       "      <th>Classic Dataset</th>\n",
       "      <td>0.16</td>\n",
       "      <td>0.01</td>\n",
       "      <td>0.05</td>\n",
       "    </tr>\n",
       "    <tr>\n",
       "      <th>Resampled_SMOTE Dataset</th>\n",
       "      <td>0.79</td>\n",
       "      <td>0.74</td>\n",
       "      <td>0.84</td>\n",
       "    </tr>\n",
       "    <tr>\n",
       "      <th>Resampled_ADASYN Dataset</th>\n",
       "      <td>0.79</td>\n",
       "      <td>0.73</td>\n",
       "      <td>0.84</td>\n",
       "    </tr>\n",
       "  </tbody>\n",
       "</table>\n",
       "</div>"
      ],
      "text/plain": [
       "                         DecisionTreeClassifier LogisticRegression  \\\n",
       "Classic Dataset                            0.16               0.01   \n",
       "Resampled_SMOTE Dataset                    0.79               0.74   \n",
       "Resampled_ADASYN Dataset                   0.79               0.73   \n",
       "\n",
       "                         XGBoostClassifier  \n",
       "Classic Dataset                       0.05  \n",
       "Resampled_SMOTE Dataset               0.84  \n",
       "Resampled_ADASYN Dataset              0.84  "
      ]
     },
     "execution_count": 46,
     "metadata": {},
     "output_type": "execute_result"
    }
   ],
   "source": [
    "result1"
   ]
  },
  {
   "cell_type": "markdown",
   "metadata": {},
   "source": [
    "According to results, in this project we must keep X_resampled_smote !\n",
    "Having created a pipeline :\n",
    "- to oversample minority class in a first step\n",
    "- to undersample majority class in a second step\n",
    "\n",
    "give us best results"
   ]
  },
  {
   "cell_type": "markdown",
   "metadata": {},
   "source": [
    "###############################################################################################################################"
   ]
  },
  {
   "cell_type": "code",
   "execution_count": 47,
   "metadata": {},
   "outputs": [],
   "source": [
    "# Splitting our resampled_smote datasets\n",
    "from sklearn.model_selection import train_test_split\n",
    "\n",
    "X_train, X_test, y_train, y_test = train_test_split(X_resampled_smote, y_resampled_smote, test_size = 0.2, random_state = 42)"
   ]
  },
  {
   "cell_type": "code",
   "execution_count": 48,
   "metadata": {},
   "outputs": [
    {
     "data": {
      "text/plain": [
       "(295841, 20)"
      ]
     },
     "execution_count": 48,
     "metadata": {},
     "output_type": "execute_result"
    }
   ],
   "source": [
    "X_train.shape"
   ]
  },
  {
   "cell_type": "markdown",
   "metadata": {},
   "source": [
    "Confusion matrix and f1_score give us really good results.\n",
    "But in this project we want to create our own metrics"
   ]
  },
  {
   "cell_type": "markdown",
   "metadata": {},
   "source": [
    "# Creating our metrics / loss_function"
   ]
  },
  {
   "cell_type": "markdown",
   "metadata": {},
   "source": [
    "Cost function equation:\n",
    "how much more a false negative costs the bank than a false positive\n",
    "To determine a cost function, we have to simplify as lot as possible, because we don't know many informations(insurance, cost for a consumer for a missed draft)... While keeping a certain logical!\n",
    "\n",
    ".cost of a false negative:\n",
    "\n",
    "- We suppose that credit is not covered by insurance \n",
    "- So anything the borrower does not repay is lost\n",
    "- Average outstanding loan amount = total loan amount * (1 - the fraction of the time during which the borrower repays)\n",
    "- Average loan amount : $200k\n",
    "- In the US, if we miss a draft, we will be penalized on the next one: but we do not take this state of affairs into account\n",
    "- We suppose a fraction of time = 25% (simplifying assumption)\n",
    "- Average amount of an outstanding loan = 200,000 * 0.75 = 150,000\n",
    "This is what the bank loses on average when it allocates a loan to someone who is not going to repay\n",
    "\n",
    "\n",
    ". cost of a false positive:\n",
    "\n",
    "- The bank does not allocate a loan that would have been repaid and on which it would have made a margin\n",
    "- The bank in total takes 15% of the amount of the loan in interest (very simplifying assumption)\n",
    "- So the bank loses 15% of 200,000 or 30,000\n",
    "\n",
    "The cost of a false negative: 150,000 vs the cost of a false positive: 30,000\n",
    "Overall, we have to penalize 5 x more a false negative than a false positive (150/30 = 5)"
   ]
  },
  {
   "cell_type": "code",
   "execution_count": 49,
   "metadata": {},
   "outputs": [],
   "source": [
    "def my_custom_loss_func(y_true, y_pred) :\n",
    "    cost = 0\n",
    "    ratio_granted = 5\n",
    "    for i in range(0, len(y_true)):\n",
    "        if (y_true[i] == 0 and y_pred[i] == 0) or (y_true[i] == 1 and y_pred[i] == 1):\n",
    "            # True positive (loan not granted and not paid back) / true negative (loan accepted and paid back)\n",
    "            cost += 0\n",
    "        elif (y_true[i] == 0 and y_pred[i] == 1):\n",
    "            # False negative (loan not granted but would have been paid back)\n",
    "            cost += 1\n",
    "        else:\n",
    "            # False positive (loan granted but not paid back)\n",
    "            cost += ratio_granted\n",
    "    return cost/len(y_true)"
   ]
  },
  {
   "cell_type": "code",
   "execution_count": 50,
   "metadata": {},
   "outputs": [],
   "source": [
    "from sklearn.metrics import make_scorer\n",
    "my_scorer = make_scorer(my_custom_loss_func, greater_is_better = False)"
   ]
  },
  {
   "cell_type": "markdown",
   "metadata": {},
   "source": [
    "###############################################################################################################################"
   ]
  },
  {
   "cell_type": "code",
   "execution_count": 51,
   "metadata": {},
   "outputs": [
    {
     "data": {
      "text/plain": [
       "(295841, 20)"
      ]
     },
     "execution_count": 51,
     "metadata": {},
     "output_type": "execute_result"
    }
   ],
   "source": [
    "X_train.shape"
   ]
  },
  {
   "cell_type": "code",
   "execution_count": 52,
   "metadata": {},
   "outputs": [
    {
     "data": {
      "text/plain": [
       "(295841,)"
      ]
     },
     "execution_count": 52,
     "metadata": {},
     "output_type": "execute_result"
    }
   ],
   "source": [
    "y_train.shape"
   ]
  },
  {
   "cell_type": "code",
   "execution_count": 53,
   "metadata": {},
   "outputs": [],
   "source": [
    "pd.DataFrame(X_train).to_csv('C:/Users/VOLANTE/anaconda3/envs/OC/P7/X_train.csv')\n",
    "pd.DataFrame(y_train).to_csv('C:/Users/VOLANTE/anaconda3/envs/OC/P7/y_train.csv')"
   ]
  },
  {
   "cell_type": "code",
   "execution_count": 54,
   "metadata": {},
   "outputs": [],
   "source": [
    "# Creating an empty df to fill in future results\n",
    "result2 = pd.DataFrame(columns=['LogisticRegression', 'XGBoostClassifier', 'ADABoostClassifier'], \n",
    "                       index = ['my_scorer(loss_function)'])"
   ]
  },
  {
   "cell_type": "markdown",
   "metadata": {},
   "source": [
    "### 1) Logistic Regression"
   ]
  },
  {
   "cell_type": "code",
   "execution_count": 55,
   "metadata": {},
   "outputs": [
    {
     "name": "stdout",
     "output_type": "stream",
     "text": [
      "Best model logistic regression: LogisticRegression(C=10.0, max_iter=1000)\n",
      "Loss_function : 0.78\n",
      "Wall time: 6min 27s\n"
     ]
    }
   ],
   "source": [
    "%%time\n",
    "from sklearn.linear_model import LogisticRegression\n",
    "from sklearn.model_selection import GridSearchCV\n",
    "\n",
    "lr = LogisticRegression(solver='lbfgs', max_iter = 1000)\n",
    "params1 = {\"C\": [1e0, 1e1, 1e2, 1e3]}\n",
    "\n",
    "grid1 = GridSearchCV(lr, param_grid = params1, cv = 5, scoring = my_scorer) \n",
    "\n",
    "# Fitting\n",
    "grid1.fit(X_train, y_train)\n",
    "\n",
    "# Best model\n",
    "best_model_lr = grid1.best_estimator_\n",
    "print('Best model logistic regression: {}'.format(best_model_lr))\n",
    "\n",
    "# Predictions\n",
    "y_pred = best_model_lr.predict(X_test)\n",
    "\n",
    "# Loss function\n",
    "print ('Loss_function : {}'.format(round(my_custom_loss_func(y_test, y_pred), 2)))"
   ]
  },
  {
   "cell_type": "code",
   "execution_count": 56,
   "metadata": {},
   "outputs": [
    {
     "data": {
      "text/plain": [
       "array([[26864,  9996],\n",
       "       [ 9501, 27600]], dtype=int64)"
      ]
     },
     "execution_count": 56,
     "metadata": {},
     "output_type": "execute_result"
    }
   ],
   "source": [
    "from sklearn.metrics import confusion_matrix\n",
    "# Confusion matrix\n",
    "confusion_matrix(y_test, y_pred)"
   ]
  },
  {
   "cell_type": "code",
   "execution_count": 57,
   "metadata": {},
   "outputs": [],
   "source": [
    "# Filling Results\n",
    "result2.iloc[0,0] = round(my_custom_loss_func(y_test, y_pred), 2)"
   ]
  },
  {
   "cell_type": "markdown",
   "metadata": {},
   "source": [
    "## 2)  XGBoostclassifier"
   ]
  },
  {
   "cell_type": "code",
   "execution_count": 58,
   "metadata": {},
   "outputs": [
    {
     "name": "stdout",
     "output_type": "stream",
     "text": [
      "Best model XGBoostClassifier: XGBClassifier(base_score=0.5, booster='gbtree', colsample_bylevel=1,\n",
      "              colsample_bynode=1, colsample_bytree=1, eta=0.1,\n",
      "              eval_metric='error', gamma=0, gpu_id=-1, importance_type='gain',\n",
      "              interaction_constraints='', learning_rate=0.100000001,\n",
      "              max_delta_step=0, max_depth=9, min_child_weight=1, missing=nan,\n",
      "              monotone_constraints='()', n_estimators=100, n_jobs=8,\n",
      "              num_parallel_tree=1, random_state=0, reg_alpha=0, reg_lambda=1,\n",
      "              scale_pos_weight=1, subsample=1, tree_method='exact',\n",
      "              use_label_encoder=False, validate_parameters=1, verbosity=None)\n",
      "Loss_function : 0.48\n",
      "Wall time: 27min 43s\n"
     ]
    }
   ],
   "source": [
    "%%time\n",
    "import xgboost\n",
    "xgb = xgboost.XGBClassifier(use_label_encoder=False, eval_metric='error')\n",
    "params2 = {\"max_depth\"   : range(5, 10, 1),\n",
    "            \"eta\"         : [0.01,0.1]    \n",
    "           \n",
    "          }\n",
    "\n",
    "grid2 = GridSearchCV(xgb, param_grid = params2, cv = 5, scoring = my_scorer) \n",
    "\n",
    "# Fitting\n",
    "grid2.fit(X_train, y_train)\n",
    "\n",
    "# Best model\n",
    "best_model_xgb = grid2.best_estimator_\n",
    "print('Best model XGBoostClassifier: {}'.format(best_model_xgb))\n",
    "\n",
    "# Predictions\n",
    "y_pred = best_model_xgb.predict(X_test)\n",
    "\n",
    "# Loss function\n",
    "print ('Loss_function : {}'.format(round(my_custom_loss_func(y_test, y_pred), 2)))"
   ]
  },
  {
   "cell_type": "code",
   "execution_count": 66,
   "metadata": {},
   "outputs": [
    {
     "data": {
      "text/plain": [
       "array([[30299,  6561],\n",
       "       [ 5846, 31255]], dtype=int64)"
      ]
     },
     "execution_count": 66,
     "metadata": {},
     "output_type": "execute_result"
    }
   ],
   "source": [
    "# Confusion matrix\n",
    "confusion_matrix(y_test, y_pred)"
   ]
  },
  {
   "cell_type": "code",
   "execution_count": 67,
   "metadata": {},
   "outputs": [],
   "source": [
    "# Filling Results\n",
    "result2.iloc[0,1] = round(my_custom_loss_func(y_test, y_pred), 2)"
   ]
  },
  {
   "cell_type": "markdown",
   "metadata": {},
   "source": [
    "#########################################################################################################################"
   ]
  },
  {
   "cell_type": "markdown",
   "metadata": {},
   "source": [
    "### 3) AdaBoostClassifier"
   ]
  },
  {
   "cell_type": "code",
   "execution_count": 69,
   "metadata": {},
   "outputs": [
    {
     "name": "stdout",
     "output_type": "stream",
     "text": [
      "Best model ADABoostClassifier: AdaBoostClassifier(n_estimators=300)\n",
      "Loss_function : 0.62\n",
      "Wall time: 22min 34s\n"
     ]
    }
   ],
   "source": [
    "%%time\n",
    "from sklearn.ensemble import AdaBoostClassifier\n",
    "\n",
    "ab = AdaBoostClassifier()\n",
    "params4 = {'n_estimators': [100,200,300]\n",
    "           \n",
    "            \n",
    "          }\n",
    "\n",
    "grid4 = GridSearchCV(ab, param_grid = params4, cv = 5, scoring = my_scorer) \n",
    "\n",
    "# Fitting\n",
    "grid4.fit(X_train, y_train)\n",
    "\n",
    "# Best model\n",
    "best_model_ab = grid4.best_estimator_\n",
    "print('Best model ADABoostClassifier: {}'.format(best_model_ab))\n",
    "\n",
    "# Predictions\n",
    "y_pred = best_model_ab.predict(X_test)\n",
    "\n",
    "# Loss function\n",
    "print ('Loss_function : {}'.format(round(my_custom_loss_func(y_test, y_pred), 2)))"
   ]
  },
  {
   "cell_type": "code",
   "execution_count": 70,
   "metadata": {},
   "outputs": [
    {
     "data": {
      "text/plain": [
       "array([[27493,  9367],\n",
       "       [ 7315, 29786]], dtype=int64)"
      ]
     },
     "execution_count": 70,
     "metadata": {},
     "output_type": "execute_result"
    }
   ],
   "source": [
    "# Confusion matrix\n",
    "confusion_matrix(y_test, y_pred)"
   ]
  },
  {
   "cell_type": "code",
   "execution_count": 71,
   "metadata": {},
   "outputs": [],
   "source": [
    "# Filling Results\n",
    "result2.iloc[0,2] = round(my_custom_loss_func(y_test, y_pred), 2)"
   ]
  },
  {
   "cell_type": "markdown",
   "metadata": {},
   "source": [
    "## Abstract"
   ]
  },
  {
   "cell_type": "code",
   "execution_count": 72,
   "metadata": {},
   "outputs": [
    {
     "data": {
      "text/html": [
       "<div>\n",
       "<style scoped>\n",
       "    .dataframe tbody tr th:only-of-type {\n",
       "        vertical-align: middle;\n",
       "    }\n",
       "\n",
       "    .dataframe tbody tr th {\n",
       "        vertical-align: top;\n",
       "    }\n",
       "\n",
       "    .dataframe thead th {\n",
       "        text-align: right;\n",
       "    }\n",
       "</style>\n",
       "<table border=\"1\" class=\"dataframe\">\n",
       "  <thead>\n",
       "    <tr style=\"text-align: right;\">\n",
       "      <th></th>\n",
       "      <th>LogisticRegression</th>\n",
       "      <th>XGBoostClassifier</th>\n",
       "      <th>ADABoostClassifier</th>\n",
       "    </tr>\n",
       "  </thead>\n",
       "  <tbody>\n",
       "    <tr>\n",
       "      <th>my_scorer(loss_function)</th>\n",
       "      <td>0.78</td>\n",
       "      <td>0.48</td>\n",
       "      <td>0.62</td>\n",
       "    </tr>\n",
       "  </tbody>\n",
       "</table>\n",
       "</div>"
      ],
      "text/plain": [
       "                         LogisticRegression XGBoostClassifier  \\\n",
       "my_scorer(loss_function)               0.78              0.48   \n",
       "\n",
       "                         ADABoostClassifier  \n",
       "my_scorer(loss_function)               0.62  "
      ]
     },
     "execution_count": 72,
     "metadata": {},
     "output_type": "execute_result"
    }
   ],
   "source": [
    "result2"
   ]
  },
  {
   "cell_type": "markdown",
   "metadata": {},
   "source": [
    "XGBoostClassifier is our best model here with our created metrics.\n",
    "It offers a loss_function really lower than other models"
   ]
  },
  {
   "cell_type": "code",
   "execution_count": 73,
   "metadata": {},
   "outputs": [],
   "source": [
    "# Our final best model\n",
    "best_model = grid2.best_estimator_"
   ]
  },
  {
   "cell_type": "code",
   "execution_count": 74,
   "metadata": {},
   "outputs": [
    {
     "data": {
      "text/plain": [
       "XGBClassifier(base_score=0.5, booster='gbtree', colsample_bylevel=1,\n",
       "              colsample_bynode=1, colsample_bytree=1, eta=0.1,\n",
       "              eval_metric='error', gamma=0, gpu_id=-1, importance_type='gain',\n",
       "              interaction_constraints='', learning_rate=0.100000001,\n",
       "              max_delta_step=0, max_depth=9, min_child_weight=1, missing=nan,\n",
       "              monotone_constraints='()', n_estimators=100, n_jobs=8,\n",
       "              num_parallel_tree=1, random_state=0, reg_alpha=0, reg_lambda=1,\n",
       "              scale_pos_weight=1, subsample=1, tree_method='exact',\n",
       "              use_label_encoder=False, validate_parameters=1, verbosity=None)"
      ]
     },
     "execution_count": 74,
     "metadata": {},
     "output_type": "execute_result"
    }
   ],
   "source": [
    "# Best model and best hyperparameters\n",
    "best_model"
   ]
  },
  {
   "cell_type": "code",
   "execution_count": 76,
   "metadata": {},
   "outputs": [],
   "source": [
    "import pickle\n",
    "pickle.dump ( grid2.best_estimator_, open ('XGBClassifier', 'wb'))"
   ]
  },
  {
   "cell_type": "markdown",
   "metadata": {},
   "source": [
    "## Features importances"
   ]
  },
  {
   "cell_type": "markdown",
   "metadata": {},
   "source": [
    "In this part, we want to plot importance of each feature accordind to our best model."
   ]
  },
  {
   "cell_type": "code",
   "execution_count": 77,
   "metadata": {},
   "outputs": [],
   "source": [
    "# Getting columns\n",
    "domain_features_names = list(X_train.columns)\n",
    "\n",
    "# Giving best model\n",
    "XGBC = grid2.best_estimator_\n",
    "\n",
    "# Fitting\n",
    "XGBC.fit(X_train, y_train)\n",
    "\n",
    "# Getting features importances\n",
    "feature_importance_values = XGBC.feature_importances_\n",
    "\n",
    "# Creating DataFrame of features' importance\n",
    "feature_importances = pd.DataFrame({'feature':domain_features_names,\n",
    "                                        'importance':feature_importance_values})"
   ]
  },
  {
   "cell_type": "code",
   "execution_count": 78,
   "metadata": {},
   "outputs": [],
   "source": [
    "def plot_feature_importances(df):\n",
    "    \n",
    "    # Sorting by importance\n",
    "    df=df.sort_values('importance',ascending=False).reset_index()\n",
    "    \n",
    "    \n",
    "    # Defining figure and axes\n",
    "    plt.figure(figsize=(10,6))\n",
    "    ax=plt.subplot()\n",
    "    \n",
    "    # Plotting histogram\n",
    "    ax.barh(list(reversed(list(df.index[:15]))), df['importance'].head(15), align='center',edgecolor='k')\n",
    "    \n",
    "    # Set the yticks and labels\n",
    "    ax.set_yticks(list(reversed(list(df.index[:15]))))\n",
    "    ax.set_yticklabels(df['feature'].head(15))\n",
    "    \n",
    "    # Plotting labeling\n",
    "    plt.xlabel('Normalized Importance'); plt.title('Feature Importances')\n",
    "    plt.show()\n",
    "    \n",
    "    return df"
   ]
  },
  {
   "cell_type": "code",
   "execution_count": 79,
   "metadata": {},
   "outputs": [
    {
     "data": {
      "image/png": "[encoded data removed]",
      "text/plain": [
       "<Figure size 720x432 with 1 Axes>"
      ]
     },
     "metadata": {
      "needs_background": "light"
     },
     "output_type": "display_data"
    },
    {
     "data": {
      "text/html": [
       "<div>\n",
       "<style scoped>\n",
       "    .dataframe tbody tr th:only-of-type {\n",
       "        vertical-align: middle;\n",
       "    }\n",
       "\n",
       "    .dataframe tbody tr th {\n",
       "        vertical-align: top;\n",
       "    }\n",
       "\n",
       "    .dataframe thead th {\n",
       "        text-align: right;\n",
       "    }\n",
       "</style>\n",
       "<table border=\"1\" class=\"dataframe\">\n",
       "  <thead>\n",
       "    <tr style=\"text-align: right;\">\n",
       "      <th></th>\n",
       "      <th>index</th>\n",
       "      <th>feature</th>\n",
       "      <th>importance</th>\n",
       "    </tr>\n",
       "  </thead>\n",
       "  <tbody>\n",
       "    <tr>\n",
       "      <th>0</th>\n",
       "      <td>18</td>\n",
       "      <td>LIVE_CITY_NOT_WORK_CITY_0</td>\n",
       "      <td>0.227237</td>\n",
       "    </tr>\n",
       "    <tr>\n",
       "      <th>1</th>\n",
       "      <td>13</td>\n",
       "      <td>REGION_RATING_CLIENT_W_CITY_3</td>\n",
       "      <td>0.189465</td>\n",
       "    </tr>\n",
       "    <tr>\n",
       "      <th>2</th>\n",
       "      <td>14</td>\n",
       "      <td>REG_CITY_NOT_LIVE_CITY_0</td>\n",
       "      <td>0.129031</td>\n",
       "    </tr>\n",
       "    <tr>\n",
       "      <th>3</th>\n",
       "      <td>8</td>\n",
       "      <td>EXT_SOURCE_3</td>\n",
       "      <td>0.086172</td>\n",
       "    </tr>\n",
       "    <tr>\n",
       "      <th>4</th>\n",
       "      <td>9</td>\n",
       "      <td>AGE</td>\n",
       "      <td>0.079795</td>\n",
       "    </tr>\n",
       "    <tr>\n",
       "      <th>5</th>\n",
       "      <td>7</td>\n",
       "      <td>EXT_SOURCE_2</td>\n",
       "      <td>0.069247</td>\n",
       "    </tr>\n",
       "    <tr>\n",
       "      <th>6</th>\n",
       "      <td>16</td>\n",
       "      <td>REG_CITY_NOT_WORK_CITY_0</td>\n",
       "      <td>0.041343</td>\n",
       "    </tr>\n",
       "    <tr>\n",
       "      <th>7</th>\n",
       "      <td>6</td>\n",
       "      <td>DAYS_ID_PUBLISH</td>\n",
       "      <td>0.031998</td>\n",
       "    </tr>\n",
       "    <tr>\n",
       "      <th>8</th>\n",
       "      <td>3</td>\n",
       "      <td>AMT_GOODS_PRICE</td>\n",
       "      <td>0.030628</td>\n",
       "    </tr>\n",
       "    <tr>\n",
       "      <th>9</th>\n",
       "      <td>0</td>\n",
       "      <td>AMT_INCOME_TOTAL</td>\n",
       "      <td>0.020918</td>\n",
       "    </tr>\n",
       "    <tr>\n",
       "      <th>10</th>\n",
       "      <td>11</td>\n",
       "      <td>REGION_RATING_CLIENT_W_CITY_1</td>\n",
       "      <td>0.016559</td>\n",
       "    </tr>\n",
       "    <tr>\n",
       "      <th>11</th>\n",
       "      <td>4</td>\n",
       "      <td>DAYS_EMPLOYED</td>\n",
       "      <td>0.016413</td>\n",
       "    </tr>\n",
       "    <tr>\n",
       "      <th>12</th>\n",
       "      <td>2</td>\n",
       "      <td>AMT_ANNUITY</td>\n",
       "      <td>0.015905</td>\n",
       "    </tr>\n",
       "    <tr>\n",
       "      <th>13</th>\n",
       "      <td>5</td>\n",
       "      <td>DAYS_REGISTRATION</td>\n",
       "      <td>0.015409</td>\n",
       "    </tr>\n",
       "    <tr>\n",
       "      <th>14</th>\n",
       "      <td>1</td>\n",
       "      <td>AMT_CREDIT</td>\n",
       "      <td>0.014454</td>\n",
       "    </tr>\n",
       "    <tr>\n",
       "      <th>15</th>\n",
       "      <td>10</td>\n",
       "      <td>CREDIT_INCOME_PERCENT</td>\n",
       "      <td>0.010294</td>\n",
       "    </tr>\n",
       "    <tr>\n",
       "      <th>16</th>\n",
       "      <td>12</td>\n",
       "      <td>REGION_RATING_CLIENT_W_CITY_2</td>\n",
       "      <td>0.005132</td>\n",
       "    </tr>\n",
       "    <tr>\n",
       "      <th>17</th>\n",
       "      <td>15</td>\n",
       "      <td>REG_CITY_NOT_LIVE_CITY_1</td>\n",
       "      <td>0.000000</td>\n",
       "    </tr>\n",
       "    <tr>\n",
       "      <th>18</th>\n",
       "      <td>17</td>\n",
       "      <td>REG_CITY_NOT_WORK_CITY_1</td>\n",
       "      <td>0.000000</td>\n",
       "    </tr>\n",
       "    <tr>\n",
       "      <th>19</th>\n",
       "      <td>19</td>\n",
       "      <td>LIVE_CITY_NOT_WORK_CITY_1</td>\n",
       "      <td>0.000000</td>\n",
       "    </tr>\n",
       "  </tbody>\n",
       "</table>\n",
       "</div>"
      ],
      "text/plain": [
       "    index                        feature  importance\n",
       "0      18      LIVE_CITY_NOT_WORK_CITY_0    0.227237\n",
       "1      13  REGION_RATING_CLIENT_W_CITY_3    0.189465\n",
       "2      14       REG_CITY_NOT_LIVE_CITY_0    0.129031\n",
       "3       8                   EXT_SOURCE_3    0.086172\n",
       "4       9                            AGE    0.079795\n",
       "5       7                   EXT_SOURCE_2    0.069247\n",
       "6      16       REG_CITY_NOT_WORK_CITY_0    0.041343\n",
       "7       6                DAYS_ID_PUBLISH    0.031998\n",
       "8       3                AMT_GOODS_PRICE    0.030628\n",
       "9       0               AMT_INCOME_TOTAL    0.020918\n",
       "10     11  REGION_RATING_CLIENT_W_CITY_1    0.016559\n",
       "11      4                  DAYS_EMPLOYED    0.016413\n",
       "12      2                    AMT_ANNUITY    0.015905\n",
       "13      5              DAYS_REGISTRATION    0.015409\n",
       "14      1                     AMT_CREDIT    0.014454\n",
       "15     10          CREDIT_INCOME_PERCENT    0.010294\n",
       "16     12  REGION_RATING_CLIENT_W_CITY_2    0.005132\n",
       "17     15       REG_CITY_NOT_LIVE_CITY_1    0.000000\n",
       "18     17       REG_CITY_NOT_WORK_CITY_1    0.000000\n",
       "19     19      LIVE_CITY_NOT_WORK_CITY_1    0.000000"
      ]
     },
     "execution_count": 79,
     "metadata": {},
     "output_type": "execute_result"
    }
   ],
   "source": [
    "plot_feature_importances(feature_importances)"
   ]
  },
  {
   "cell_type": "code",
   "execution_count": 80,
   "metadata": {},
   "outputs": [
    {
     "data": {
      "image/png": "[encoded data removed]",
      "text/plain": [
       "<Figure size 576x684 with 1 Axes>"
      ]
     },
     "metadata": {
      "needs_background": "light"
     },
     "output_type": "display_data"
    }
   ],
   "source": [
    "import shap\n",
    "shap_values = shap.TreeExplainer(XGBC).shap_values(X_train)\n",
    "shap.summary_plot(shap_values, X_train, plot_type=\"bar\")"
   ]
  },
  {
   "cell_type": "code",
   "execution_count": 81,
   "metadata": {},
   "outputs": [],
   "source": [
    "# Plotting by correlation\n",
    "\n",
    "def ABS_SHAP(df_shap,df):\n",
    "    #import matplotlib as plt\n",
    "    # Make a copy of the input data\n",
    "    shap_v = pd.DataFrame(df_shap)\n",
    "    feature_list = df.columns\n",
    "    shap_v.columns = feature_list\n",
    "    df_v = df.copy().reset_index().drop('index',axis=1)\n",
    "    \n",
    "    # We Determine the correlation in order to plot with different colors\n",
    "    corr_list = list()\n",
    "    for i in feature_list:\n",
    "        b = np.corrcoef(shap_v[i],df_v[i])[1][0]\n",
    "        corr_list.append(b)\n",
    "    corr_df = pd.concat([pd.Series(feature_list),pd.Series(corr_list)],axis=1).fillna(0)\n",
    "    \n",
    "    #  We create a data frame. Column 1 is the feature, and Column 2 is the correlation coefficient\n",
    "    corr_df.columns  = ['Variable','Corr']\n",
    "    corr_df['Sign'] = np.where(corr_df['Corr']>0,'red','blue')\n",
    "    \n",
    "    # Plot it\n",
    "    shap_abs = np.abs(shap_v)\n",
    "    k=pd.DataFrame(shap_abs.mean()).reset_index()\n",
    "    k.columns = ['Variable','SHAP_abs']\n",
    "    k2 = k.merge(corr_df,left_on = 'Variable',right_on='Variable',how='inner')\n",
    "    k2 = k2.sort_values(by='SHAP_abs',ascending = True)\n",
    "    colorlist = k2['Sign']\n",
    "    ax = k2.plot.barh(x='Variable',y='SHAP_abs',color = colorlist, figsize=(14,5),legend = False)\n",
    "    ax.set_xlabel(\"SHAP Value (Red = Positive Impact)\")"
   ]
  },
  {
   "cell_type": "code",
   "execution_count": 82,
   "metadata": {},
   "outputs": [
    {
     "name": "stderr",
     "output_type": "stream",
     "text": [
      "invalid value encountered in true_divide\n",
      "invalid value encountered in true_divide\n"
     ]
    },
    {
     "data": {
      "image/png": "[encoded data removed]",
      "text/plain": [
       "<Figure size 1008x360 with 1 Axes>"
      ]
     },
     "metadata": {
      "needs_background": "light"
     },
     "output_type": "display_data"
    }
   ],
   "source": [
    "ABS_SHAP(shap_values, X_train) "
   ]
  },
  {
   "cell_type": "code",
   "execution_count": 83,
   "metadata": {},
   "outputs": [
    {
     "data": {
      "image/png": "[encoded data removed]",
      "text/plain": [
       "<Figure size 576x684 with 2 Axes>"
      ]
     },
     "metadata": {
      "needs_background": "light"
     },
     "output_type": "display_data"
    }
   ],
   "source": [
    "shap.summary_plot(shap_values, X_train)"
   ]
  },
  {
   "cell_type": "markdown",
   "metadata": {},
   "source": [
    "## ROC curve"
   ]
  },
  {
   "cell_type": "markdown",
   "metadata": {},
   "source": [
    "Roc curve plots false positives' rate compared at True positives' rate for each possible threshold"
   ]
  },
  {
   "cell_type": "code",
   "execution_count": 84,
   "metadata": {},
   "outputs": [],
   "source": [
    "from sklearn.model_selection import cross_val_predict\n",
    "# Applying decision function method\n",
    "y_scores = cross_val_predict(XGBC, X_train, y_train, cv = 5)"
   ]
  },
  {
   "cell_type": "code",
   "execution_count": 85,
   "metadata": {},
   "outputs": [],
   "source": [
    "from sklearn.metrics import roc_curve\n",
    "\n",
    "# ROC curve\n",
    "fpr, tpr, thresholds = roc_curve(y_train, y_scores)"
   ]
  },
  {
   "cell_type": "code",
   "execution_count": 86,
   "metadata": {},
   "outputs": [],
   "source": [
    "def plot_roc_curve(fpr, tpr, label = None):\n",
    "    \n",
    "    \n",
    "    # Defining figure and axes\n",
    "    plt.figure(figsize=(10,6))\n",
    "    ax=plt.subplot()\n",
    "    \n",
    "    # Plotting roc_curve\n",
    "    plt.plot(fpr, tpr, linewidth = 2, label = label)\n",
    "    # Potting dotted diagonal\n",
    "    plt.plot([0, 1], [0, 1], 'k--')"
   ]
  },
  {
   "cell_type": "code",
   "execution_count": 87,
   "metadata": {},
   "outputs": [
    {
     "name": "stderr",
     "output_type": "stream",
     "text": [
      "No handles with labels found to put in legend.\n"
     ]
    },
    {
     "data": {
      "text/plain": [
       "<matplotlib.legend.Legend at 0x19a06183640>"
      ]
     },
     "execution_count": 87,
     "metadata": {},
     "output_type": "execute_result"
    },
    {
     "data": {
      "image/png": "[encoded data removed]",
      "text/plain": [
       "<Figure size 720x432 with 1 Axes>"
      ]
     },
     "metadata": {
      "needs_background": "light"
     },
     "output_type": "display_data"
    }
   ],
   "source": [
    "plot_roc_curve(fpr, tpr)\n",
    "plt.legend(loc = 'lower right')"
   ]
  }
 ],
 "metadata": {
  "kernelspec": {
   "display_name": "OC",
   "language": "python",
   "name": "oc"
  },
  "language_info": {
   "codemirror_mode": {
    "name": "ipython",
    "version": 3
   },
   "file_extension": ".py",
   "mimetype": "text/x-python",
   "name": "python",
   "nbconvert_exporter": "python",
   "pygments_lexer": "ipython3",
   "version": "3.8.5"
  }
 },
 "nbformat": 4,
 "nbformat_minor": 4
}
